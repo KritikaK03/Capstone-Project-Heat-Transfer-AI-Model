{
  "cells": [
    {
      "cell_type": "code",
      "execution_count": 1,
      "id": "7d7cd6fd",
      "metadata": {
        "id": "7d7cd6fd"
      },
      "outputs": [],
      "source": [
        "# Import necessary libraries\n",
        "import pandas as pd\n",
        "import numpy as np\n",
        "import matplotlib.pyplot as plt\n",
        "import seaborn as sns\n",
        "from sklearn.model_selection import train_test_split\n",
        "from sklearn.ensemble import RandomForestRegressor\n",
        "from sklearn.preprocessing import StandardScaler\n",
        "from sklearn.impute import SimpleImputer\n",
        "from sklearn.svm import SVR\n",
        "from xgboost import XGBRegressor\n",
        "from sklearn.metrics import mean_absolute_error\n",
        "from tensorflow.keras.models import Sequential\n",
        "from sklearn.metrics import mean_absolute_error, r2_score\n",
        "from tensorflow.keras.layers import Dense, Dropout\n"
      ]
    },
    {
      "cell_type": "code",
      "execution_count": 2,
      "id": "fdd9de0a",
      "metadata": {
        "colab": {
          "base_uri": "https://localhost:8080/"
        },
        "id": "fdd9de0a",
        "outputId": "c9cc6bd7-6a0d-4c01-b2b2-433ba91f52f8"
      },
      "outputs": [
        {
          "output_type": "stream",
          "name": "stdout",
          "text": [
            "/content\n"
          ]
        }
      ],
      "source": [
        "import os\n",
        "print(os.getcwd())"
      ]
    },
    {
      "cell_type": "code",
      "source": [
        "# Load dataset\n",
        "# file_path_dataset = '/content/DatasetHT.xlsx'\n",
        "# dataset_df = pd.read_excel(file_path_dataset)"
      ],
      "metadata": {
        "id": "M9CtnmTshsi6"
      },
      "id": "M9CtnmTshsi6",
      "execution_count": 12,
      "outputs": []
    },
    {
      "cell_type": "code",
      "source": [
        "from google.colab import drive\n",
        "drive.mount('/content/drive')"
      ],
      "metadata": {
        "colab": {
          "base_uri": "https://localhost:8080/"
        },
        "id": "Y9wZC3cjcqh-",
        "outputId": "ae50c37a-7fad-4e6c-ed17-8f532dbc5cdf"
      },
      "id": "Y9wZC3cjcqh-",
      "execution_count": 8,
      "outputs": [
        {
          "output_type": "stream",
          "name": "stdout",
          "text": [
            "Mounted at /content/drive\n"
          ]
        }
      ]
    },
    {
      "cell_type": "code",
      "source": [
        "from google.colab import files\n",
        "uploaded = files.upload()  # This prompts the user to upload files\n",
        "\n",
        "import pandas as pd\n",
        "dataset_df = pd.read_excel('DatasetHT.xlsx')  # Use the uploaded filename"
      ],
      "metadata": {
        "colab": {
          "base_uri": "https://localhost:8080/",
          "height": 72
        },
        "id": "un6SNW0zltkL",
        "outputId": "fea8f938-4037-4b75-997c-9765e9233b16"
      },
      "id": "un6SNW0zltkL",
      "execution_count": 21,
      "outputs": [
        {
          "output_type": "display_data",
          "data": {
            "text/plain": [
              "<IPython.core.display.HTML object>"
            ],
            "text/html": [
              "\n",
              "     <input type=\"file\" id=\"files-a7e86a73-8080-4fb7-b1e5-58d1033758ed\" name=\"files[]\" multiple disabled\n",
              "        style=\"border:none\" />\n",
              "     <output id=\"result-a7e86a73-8080-4fb7-b1e5-58d1033758ed\">\n",
              "      Upload widget is only available when the cell has been executed in the\n",
              "      current browser session. Please rerun this cell to enable.\n",
              "      </output>\n",
              "      <script>// Copyright 2017 Google LLC\n",
              "//\n",
              "// Licensed under the Apache License, Version 2.0 (the \"License\");\n",
              "// you may not use this file except in compliance with the License.\n",
              "// You may obtain a copy of the License at\n",
              "//\n",
              "//      http://www.apache.org/licenses/LICENSE-2.0\n",
              "//\n",
              "// Unless required by applicable law or agreed to in writing, software\n",
              "// distributed under the License is distributed on an \"AS IS\" BASIS,\n",
              "// WITHOUT WARRANTIES OR CONDITIONS OF ANY KIND, either express or implied.\n",
              "// See the License for the specific language governing permissions and\n",
              "// limitations under the License.\n",
              "\n",
              "/**\n",
              " * @fileoverview Helpers for google.colab Python module.\n",
              " */\n",
              "(function(scope) {\n",
              "function span(text, styleAttributes = {}) {\n",
              "  const element = document.createElement('span');\n",
              "  element.textContent = text;\n",
              "  for (const key of Object.keys(styleAttributes)) {\n",
              "    element.style[key] = styleAttributes[key];\n",
              "  }\n",
              "  return element;\n",
              "}\n",
              "\n",
              "// Max number of bytes which will be uploaded at a time.\n",
              "const MAX_PAYLOAD_SIZE = 100 * 1024;\n",
              "\n",
              "function _uploadFiles(inputId, outputId) {\n",
              "  const steps = uploadFilesStep(inputId, outputId);\n",
              "  const outputElement = document.getElementById(outputId);\n",
              "  // Cache steps on the outputElement to make it available for the next call\n",
              "  // to uploadFilesContinue from Python.\n",
              "  outputElement.steps = steps;\n",
              "\n",
              "  return _uploadFilesContinue(outputId);\n",
              "}\n",
              "\n",
              "// This is roughly an async generator (not supported in the browser yet),\n",
              "// where there are multiple asynchronous steps and the Python side is going\n",
              "// to poll for completion of each step.\n",
              "// This uses a Promise to block the python side on completion of each step,\n",
              "// then passes the result of the previous step as the input to the next step.\n",
              "function _uploadFilesContinue(outputId) {\n",
              "  const outputElement = document.getElementById(outputId);\n",
              "  const steps = outputElement.steps;\n",
              "\n",
              "  const next = steps.next(outputElement.lastPromiseValue);\n",
              "  return Promise.resolve(next.value.promise).then((value) => {\n",
              "    // Cache the last promise value to make it available to the next\n",
              "    // step of the generator.\n",
              "    outputElement.lastPromiseValue = value;\n",
              "    return next.value.response;\n",
              "  });\n",
              "}\n",
              "\n",
              "/**\n",
              " * Generator function which is called between each async step of the upload\n",
              " * process.\n",
              " * @param {string} inputId Element ID of the input file picker element.\n",
              " * @param {string} outputId Element ID of the output display.\n",
              " * @return {!Iterable<!Object>} Iterable of next steps.\n",
              " */\n",
              "function* uploadFilesStep(inputId, outputId) {\n",
              "  const inputElement = document.getElementById(inputId);\n",
              "  inputElement.disabled = false;\n",
              "\n",
              "  const outputElement = document.getElementById(outputId);\n",
              "  outputElement.innerHTML = '';\n",
              "\n",
              "  const pickedPromise = new Promise((resolve) => {\n",
              "    inputElement.addEventListener('change', (e) => {\n",
              "      resolve(e.target.files);\n",
              "    });\n",
              "  });\n",
              "\n",
              "  const cancel = document.createElement('button');\n",
              "  inputElement.parentElement.appendChild(cancel);\n",
              "  cancel.textContent = 'Cancel upload';\n",
              "  const cancelPromise = new Promise((resolve) => {\n",
              "    cancel.onclick = () => {\n",
              "      resolve(null);\n",
              "    };\n",
              "  });\n",
              "\n",
              "  // Wait for the user to pick the files.\n",
              "  const files = yield {\n",
              "    promise: Promise.race([pickedPromise, cancelPromise]),\n",
              "    response: {\n",
              "      action: 'starting',\n",
              "    }\n",
              "  };\n",
              "\n",
              "  cancel.remove();\n",
              "\n",
              "  // Disable the input element since further picks are not allowed.\n",
              "  inputElement.disabled = true;\n",
              "\n",
              "  if (!files) {\n",
              "    return {\n",
              "      response: {\n",
              "        action: 'complete',\n",
              "      }\n",
              "    };\n",
              "  }\n",
              "\n",
              "  for (const file of files) {\n",
              "    const li = document.createElement('li');\n",
              "    li.append(span(file.name, {fontWeight: 'bold'}));\n",
              "    li.append(span(\n",
              "        `(${file.type || 'n/a'}) - ${file.size} bytes, ` +\n",
              "        `last modified: ${\n",
              "            file.lastModifiedDate ? file.lastModifiedDate.toLocaleDateString() :\n",
              "                                    'n/a'} - `));\n",
              "    const percent = span('0% done');\n",
              "    li.appendChild(percent);\n",
              "\n",
              "    outputElement.appendChild(li);\n",
              "\n",
              "    const fileDataPromise = new Promise((resolve) => {\n",
              "      const reader = new FileReader();\n",
              "      reader.onload = (e) => {\n",
              "        resolve(e.target.result);\n",
              "      };\n",
              "      reader.readAsArrayBuffer(file);\n",
              "    });\n",
              "    // Wait for the data to be ready.\n",
              "    let fileData = yield {\n",
              "      promise: fileDataPromise,\n",
              "      response: {\n",
              "        action: 'continue',\n",
              "      }\n",
              "    };\n",
              "\n",
              "    // Use a chunked sending to avoid message size limits. See b/62115660.\n",
              "    let position = 0;\n",
              "    do {\n",
              "      const length = Math.min(fileData.byteLength - position, MAX_PAYLOAD_SIZE);\n",
              "      const chunk = new Uint8Array(fileData, position, length);\n",
              "      position += length;\n",
              "\n",
              "      const base64 = btoa(String.fromCharCode.apply(null, chunk));\n",
              "      yield {\n",
              "        response: {\n",
              "          action: 'append',\n",
              "          file: file.name,\n",
              "          data: base64,\n",
              "        },\n",
              "      };\n",
              "\n",
              "      let percentDone = fileData.byteLength === 0 ?\n",
              "          100 :\n",
              "          Math.round((position / fileData.byteLength) * 100);\n",
              "      percent.textContent = `${percentDone}% done`;\n",
              "\n",
              "    } while (position < fileData.byteLength);\n",
              "  }\n",
              "\n",
              "  // All done.\n",
              "  yield {\n",
              "    response: {\n",
              "      action: 'complete',\n",
              "    }\n",
              "  };\n",
              "}\n",
              "\n",
              "scope.google = scope.google || {};\n",
              "scope.google.colab = scope.google.colab || {};\n",
              "scope.google.colab._files = {\n",
              "  _uploadFiles,\n",
              "  _uploadFilesContinue,\n",
              "};\n",
              "})(self);\n",
              "</script> "
            ]
          },
          "metadata": {}
        },
        {
          "output_type": "stream",
          "name": "stdout",
          "text": [
            "Saving DatasetHT.xlsx to DatasetHT (2).xlsx\n"
          ]
        }
      ]
    },
    {
      "cell_type": "code",
      "source": [
        "# Handle missing values\n",
        "imputer = SimpleImputer(strategy='mean')\n",
        "dataset_df.iloc[:, :] = imputer.fit_transform(dataset_df)\n"
      ],
      "metadata": {
        "id": "AEM5Td--hGUw"
      },
      "id": "AEM5Td--hGUw",
      "execution_count": 4,
      "outputs": []
    },
    {
      "cell_type": "code",
      "source": [
        "# Identify missing values in Pr\n",
        "missing_pr = dataset_df[dataset_df['Pr'].isnull()]\n",
        "valid_pr = dataset_df[dataset_df['Pr'].notnull()]\n",
        "\n",
        "# Select features for predicting Pr (excluding Nu to avoid data leakage)\n",
        "features = ['Re', 'W', 'H', 'L', 'Dh']  # Modify based on dataset structure\n",
        "\n",
        "# Check if there are any missing values to predict\n",
        "if missing_pr.shape[0] > 0:  # Proceed only if there are missing values\n",
        "    # Train regression model using valid Pr-Nu pairs\n",
        "    X_train = valid_pr[features]\n",
        "    y_train = valid_pr['Pr']\n",
        "\n",
        "    rf_model = RandomForestRegressor(n_estimators=100, random_state=42)\n",
        "    rf_model.fit(X_train, y_train)\n",
        "\n",
        "    # Predict missing Pr values\n",
        "    X_missing = missing_pr[features]\n",
        "    predicted_pr = rf_model.predict(X_missing)\n",
        "\n",
        "    # Assign predicted values back to the dataset\n",
        "    dataset_df.loc[dataset_df['Pr'].isnull(), 'Pr'] = predicted_pr\n",
        "\n",
        "    # Check imputation results\n",
        "    print(\"Mean Absolute Error for Pr Imputation:\", mean_absolute_error(y_train, rf_model.predict(X_train)))\n",
        "else:\n",
        "    print(\"No missing values in 'Pr' column to impute.\")\n",
        "\n"
      ],
      "metadata": {
        "colab": {
          "base_uri": "https://localhost:8080/"
        },
        "id": "0bbEHOZ3bgqm",
        "outputId": "4d33c76a-4d4b-4ed2-d00d-8e68d956efd6"
      },
      "id": "0bbEHOZ3bgqm",
      "execution_count": 22,
      "outputs": [
        {
          "output_type": "stream",
          "name": "stdout",
          "text": [
            "No missing values in 'Pr' column to impute.\n"
          ]
        }
      ]
    },
    {
      "cell_type": "code",
      "source": [
        "# Normalize numerical features\n",
        "scaler = StandardScaler()\n",
        "numerical_cols = ['W', 'H', 'L', 'Re', 'Pr']\n",
        "dataset_df[numerical_cols] = scaler.fit_transform(dataset_df[numerical_cols])\n",
        "\n",
        "# Create additional features\n",
        "dataset_df['Aspect_Ratio'] = dataset_df['W'] / dataset_df['H']\n",
        "\n",
        "# Splitting dataset\n",
        "X = dataset_df.drop(columns=['Nu'])\n",
        "y = dataset_df['Nu']\n",
        "X_train, X_test, y_train, y_test = train_test_split(X, y, test_size=0.2, random_state=42)\n"
      ],
      "metadata": {
        "id": "rx6ZHjVchriH"
      },
      "id": "rx6ZHjVchriH",
      "execution_count": 23,
      "outputs": []
    },
    {
      "cell_type": "code",
      "execution_count": 25,
      "id": "22d774af",
      "metadata": {
        "colab": {
          "base_uri": "https://localhost:8080/"
        },
        "id": "22d774af",
        "outputId": "c85bfefd-c55f-4e4a-c975-7e0653bbbc73"
      },
      "outputs": [
        {
          "output_type": "stream",
          "name": "stdout",
          "text": [
            "All the values are in mm\n",
            "\n",
            "Missing Values:\n",
            " W         0\n",
            "H         0\n",
            "L         0\n",
            "Dh        0\n",
            "Alpha     0\n",
            "L/Dh      0\n",
            "Re        0\n",
            "Pr        0\n",
            "Nu        0\n",
            "dtype: int64\n",
            "Outliers:\n",
            " W          8\n",
            "H         45\n",
            "L          0\n",
            "Dh         0\n",
            "Alpha      0\n",
            "L/Dh       0\n",
            "Re        39\n",
            "Pr         0\n",
            "Nu         0\n",
            "dtype: int64\n"
          ]
        },
        {
          "output_type": "execute_result",
          "data": {
            "text/plain": [
              "(            W         H         L        Dh    Alpha       L/Dh        Re  \\\n",
              " 146 -0.135994 -0.578528  0.572751 -0.216627 -0.811390 -0.348339  1.897157   \n",
              " 215  0.137851  1.991208 -1.357237  2.075872 -0.071257 -0.946275 -0.665515   \n",
              " 159  0.137851  0.177276  1.450019  1.017795 -0.626357 -0.568169 -0.456910   \n",
              " 233  1.780917 -0.276206  0.572751  1.017795 -0.903907 -0.678083  0.586833   \n",
              " 182 -0.409838  1.991208 -1.462509  0.606321  0.853909 -0.918136 -0.327009   \n",
              " \n",
              "            Pr  \n",
              " 146 -0.769353  \n",
              " 215 -0.766264  \n",
              " 159 -0.769353  \n",
              " 233 -0.768535  \n",
              " 182 -0.763992  ,\n",
              "             W         H         L        Dh    Alpha       L/Dh        Re  \\\n",
              " 69  -0.869897 -0.451553  0.309571 -1.112466  1.223975  1.156116 -0.224798   \n",
              " 190 -0.409838  1.991208 -1.462509  0.606321  0.853909 -0.918136 -0.167835   \n",
              " 181 -0.409838  1.991208 -1.462509  0.606321  0.853909 -0.918136 -0.339816   \n",
              " 9   -0.847990 -0.911082 -1.357237 -1.204166 -0.626357 -0.128510 -0.312134   \n",
              " 127  0.959384  0.026115  0.572751  1.425154 -0.811390 -0.724785 -0.292125   \n",
              " \n",
              "            Pr  \n",
              " 69   1.364273  \n",
              " 190 -0.763992  \n",
              " 181 -0.763992  \n",
              " 9    1.068996  \n",
              " 127 -0.769353  ,\n",
              " 146    3.351300\n",
              " 215    2.097573\n",
              " 159    2.229900\n",
              " 233    4.166889\n",
              " 182    4.304207\n",
              " Name: Nu, dtype: float64,\n",
              " 69     8.142601\n",
              " 190    4.472492\n",
              " 181    4.265372\n",
              " 9      6.866260\n",
              " 127    2.852900\n",
              " Name: Nu, dtype: float64)"
            ]
          },
          "metadata": {},
          "execution_count": 25
        }
      ],
      "source": [
        "# Load data from Excel file\n",
        "dataset_df = pd.read_excel('DatasetHT.xlsx')\n",
        "\n",
        "# Display the first few rows of the dataframe\n",
        "dataset_df.head()\n",
        "\n",
        "# Check for missing values\n",
        "missing_values = dataset_df.isnull().sum()\n",
        "print(\"All the values are in mm\\n\")\n",
        "print(\"Missing Values:\\n\", missing_values)\n",
        "\n",
        "\n",
        "# Check for outliers (assuming numerical features)\n",
        "numerical_features = dataset_df.select_dtypes(include=[np.number])\n",
        "Q1 = numerical_features.quantile(0.25)\n",
        "Q3 = numerical_features.quantile(0.75)\n",
        "IQR = Q3 - Q1\n",
        "outliers = ((numerical_features < (Q1 - 1.5 * IQR)) | (numerical_features > (Q3 + 1.5 * IQR))).sum()\n",
        "print(\"Outliers:\\n\", outliers)\n",
        "\n",
        "# Handle missing values (if any)\n",
        "# For simplicity, we'll use mean imputation here\n",
        "imputer = SimpleImputer(strategy='mean')\n",
        "df_imputed = pd.DataFrame(imputer.fit_transform(dataset_df), columns=dataset_df.columns)\n",
        "\n",
        "# Feature scaling (standardization)\n",
        "scaler = StandardScaler()\n",
        "scaled_data = scaler.fit_transform(df_imputed.drop(['Nu'], axis=1))\n",
        "df_scaled = pd.DataFrame(scaled_data, columns=df_imputed.columns[:-1])  # Exclude the target variable 'Nu'\n",
        "\n",
        "# Split the data into training and testing sets\n",
        "X_train, X_test, y_train, y_test = train_test_split(df_scaled, df_imputed['Nu'], test_size=0.2, random_state=42)\n",
        "\n",
        "# Standardize features for Neural Network & SVR\n",
        "scaler = StandardScaler()\n",
        "X_train_scaled = scaler.fit_transform(X_train)\n",
        "X_test_scaled = scaler.transform(X_test)\n",
        "\n",
        "# Display the preprocessed data\n",
        "X_train.head(), X_test.head(), y_train.head(), y_test.head()\n"
      ]
    },
    {
      "cell_type": "markdown",
      "source": [
        "My code and comparison between Nueral Network, SVR, XG Boost Model with the new dataset DatasetHT."
      ],
      "metadata": {
        "id": "WuXt7HX_fvok"
      },
      "id": "WuXt7HX_fvok"
    },
    {
      "cell_type": "code",
      "source": [
        "# Support Vector Regression (SVR)\n",
        "svr = SVR(kernel='rbf')\n",
        "svr.fit(X_train, y_train)\n",
        "y_pred_svr = svr.predict(X_test)\n",
        "r2_svr = r2_score(y_test, y_pred_svr)\n",
        "mae_svr = mean_absolute_error(y_test, y_pred_svr)\n",
        "print(\"SVR R2 Score:\", r2_svr)\n",
        "print(\"SVR MAE:\", mae_svr)\n",
        "\n",
        "# XGBoost Model\n",
        "xgb = XGBRegressor(objective='reg:squarederror', n_estimators=100)\n",
        "xgb.fit(X_train, y_train)\n",
        "y_pred_xgb = xgb.predict(X_test)\n",
        "r2_xgb = r2_score(y_test, y_pred_xgb)\n",
        "mae_xgb = mean_absolute_error(y_test, y_pred_xgb)\n",
        "print(\"XGBoost R2 Score:\", r2_xgb)\n",
        "print(\"XGBoost MAE:\", mae_xgb)\n",
        "\n",
        "# Neural Network Model\n",
        "def build_neural_network():\n",
        "    model = Sequential([\n",
        "        Dense(64, activation='relu', input_shape=(X_train.shape[1],)),\n",
        "        Dropout(0.2),\n",
        "        Dense(32, activation='relu'),\n",
        "        Dense(1)  # Output layer\n",
        "    ])\n",
        "    model.compile(optimizer='adam', loss='mean_absolute_error')\n",
        "    return model"
      ],
      "metadata": {
        "colab": {
          "base_uri": "https://localhost:8080/"
        },
        "id": "8MfSI5lbgEKv",
        "outputId": "bdfa1ff4-1c49-43fe-a461-7b713f4917b4"
      },
      "id": "8MfSI5lbgEKv",
      "execution_count": 26,
      "outputs": [
        {
          "output_type": "stream",
          "name": "stdout",
          "text": [
            "SVR R2 Score: 0.949201633802045\n",
            "SVR MAE: 0.26899333468076464\n",
            "XGBoost R2 Score: 0.9943078681732621\n",
            "XGBoost MAE: 0.07726785652532546\n"
          ]
        }
      ]
    },
    {
      "cell_type": "code",
      "source": [
        "X_train, X_test, y_train, y_test = train_test_split(X, y, test_size=0.2, random_state=42)\n",
        "\n",
        "# Standardize features for Neural Network & SVR\n",
        "scaler = StandardScaler()\n",
        "X_train_scaled = scaler.fit_transform(X_train)\n",
        "X_test_scaled = scaler.transform(X_test)\n",
        "\n",
        "# Define the neural network model\n",
        "nn_model = Sequential([\n",
        "    Dense(64, activation='relu', input_shape=(X_train_scaled.shape[1],)),\n",
        "    Dropout(0.2),\n",
        "    Dense(32, activation='relu'),\n",
        "    Dense(16, activation='relu'),\n",
        "    Dense(1)  # Output layer (predicting Nu)\n",
        "])\n",
        "\n",
        "# Compile the model\n",
        "nn_model.compile(optimizer='adam', loss='mean_absolute_error', metrics=['mae'])\n",
        "\n",
        "# Train the model\n",
        "nn_history = nn_model.fit(X_train_scaled, y_train, validation_data=(X_test_scaled, y_test), epochs=100, batch_size=16, verbose=1)\n",
        "\n",
        "# Predict Nu on test set\n",
        "y_pred_nn = nn_model.predict(X_test_scaled)\n",
        "\n",
        "# Evaluate performance\n",
        "mae_nn = mean_absolute_error(y_test, y_pred_nn)\n",
        "r2_nn = r2_score(y_test, y_pred_nn)\n"
      ],
      "metadata": {
        "colab": {
          "base_uri": "https://localhost:8080/"
        },
        "id": "juD9Hpwkib-b",
        "outputId": "16500b9a-5953-4df5-d830-ae748d71e99c",
        "collapsed": true
      },
      "id": "juD9Hpwkib-b",
      "execution_count": null,
      "outputs": [
        {
          "output_type": "stream",
          "name": "stdout",
          "text": [
            "Epoch 1/100\n"
          ]
        },
        {
          "output_type": "stream",
          "name": "stderr",
          "text": [
            "/usr/local/lib/python3.11/dist-packages/keras/src/layers/core/dense.py:87: UserWarning: Do not pass an `input_shape`/`input_dim` argument to a layer. When using Sequential models, prefer using an `Input(shape)` object as the first layer in the model instead.\n",
            "  super().__init__(activity_regularizer=activity_regularizer, **kwargs)\n"
          ]
        },
        {
          "output_type": "stream",
          "name": "stdout",
          "text": [
            "\u001b[1m12/12\u001b[0m \u001b[32m━━━━━━━━━━━━━━━━━━━━\u001b[0m\u001b[37m\u001b[0m \u001b[1m2s\u001b[0m 22ms/step - loss: 4.6830 - mae: 4.6830 - val_loss: 4.3288 - val_mae: 4.3288\n",
            "Epoch 2/100\n",
            "\u001b[1m12/12\u001b[0m \u001b[32m━━━━━━━━━━━━━━━━━━━━\u001b[0m\u001b[37m\u001b[0m \u001b[1m0s\u001b[0m 7ms/step - loss: 4.2702 - mae: 4.2702 - val_loss: 3.8751 - val_mae: 3.8751\n",
            "Epoch 3/100\n",
            "\u001b[1m12/12\u001b[0m \u001b[32m━━━━━━━━━━━━━━━━━━━━\u001b[0m\u001b[37m\u001b[0m \u001b[1m0s\u001b[0m 7ms/step - loss: 3.8062 - mae: 3.8062 - val_loss: 3.2173 - val_mae: 3.2173\n",
            "Epoch 4/100\n",
            "\u001b[1m12/12\u001b[0m \u001b[32m━━━━━━━━━━━━━━━━━━━━\u001b[0m\u001b[37m\u001b[0m \u001b[1m0s\u001b[0m 8ms/step - loss: 2.9869 - mae: 2.9869 - val_loss: 2.2998 - val_mae: 2.2998\n",
            "Epoch 5/100\n",
            "\u001b[1m12/12\u001b[0m \u001b[32m━━━━━━━━━━━━━━━━━━━━\u001b[0m\u001b[37m\u001b[0m \u001b[1m0s\u001b[0m 7ms/step - loss: 1.9184 - mae: 1.9184 - val_loss: 1.3060 - val_mae: 1.3060\n",
            "Epoch 6/100\n",
            "\u001b[1m12/12\u001b[0m \u001b[32m━━━━━━━━━━━━━━━━━━━━\u001b[0m\u001b[37m\u001b[0m \u001b[1m0s\u001b[0m 11ms/step - loss: 1.2580 - mae: 1.2580 - val_loss: 0.8399 - val_mae: 0.8399\n",
            "Epoch 7/100\n",
            "\u001b[1m12/12\u001b[0m \u001b[32m━━━━━━━━━━━━━━━━━━━━\u001b[0m\u001b[37m\u001b[0m \u001b[1m0s\u001b[0m 15ms/step - loss: 1.0569 - mae: 1.0569 - val_loss: 0.7483 - val_mae: 0.7483\n",
            "Epoch 8/100\n",
            "\u001b[1m12/12\u001b[0m \u001b[32m━━━━━━━━━━━━━━━━━━━━\u001b[0m\u001b[37m\u001b[0m \u001b[1m0s\u001b[0m 12ms/step - loss: 0.8536 - mae: 0.8536 - val_loss: 0.6476 - val_mae: 0.6476\n",
            "Epoch 9/100\n",
            "\u001b[1m12/12\u001b[0m \u001b[32m━━━━━━━━━━━━━━━━━━━━\u001b[0m\u001b[37m\u001b[0m \u001b[1m0s\u001b[0m 14ms/step - loss: 0.7184 - mae: 0.7184 - val_loss: 0.5234 - val_mae: 0.5234\n",
            "Epoch 10/100\n",
            "\u001b[1m12/12\u001b[0m \u001b[32m━━━━━━━━━━━━━━━━━━━━\u001b[0m\u001b[37m\u001b[0m \u001b[1m0s\u001b[0m 14ms/step - loss: 0.6775 - mae: 0.6775 - val_loss: 0.5334 - val_mae: 0.5334\n",
            "Epoch 11/100\n",
            "\u001b[1m12/12\u001b[0m \u001b[32m━━━━━━━━━━━━━━━━━━━━\u001b[0m\u001b[37m\u001b[0m \u001b[1m0s\u001b[0m 15ms/step - loss: 0.6110 - mae: 0.6110 - val_loss: 0.4590 - val_mae: 0.4590\n",
            "Epoch 12/100\n",
            "\u001b[1m12/12\u001b[0m \u001b[32m━━━━━━━━━━━━━━━━━━━━\u001b[0m\u001b[37m\u001b[0m \u001b[1m0s\u001b[0m 15ms/step - loss: 0.5824 - mae: 0.5824 - val_loss: 0.4933 - val_mae: 0.4933\n",
            "Epoch 13/100\n",
            "\u001b[1m12/12\u001b[0m \u001b[32m━━━━━━━━━━━━━━━━━━━━\u001b[0m\u001b[37m\u001b[0m \u001b[1m0s\u001b[0m 11ms/step - loss: 0.6557 - mae: 0.6557 - val_loss: 0.4582 - val_mae: 0.4582\n",
            "Epoch 14/100\n",
            "\u001b[1m12/12\u001b[0m \u001b[32m━━━━━━━━━━━━━━━━━━━━\u001b[0m\u001b[37m\u001b[0m \u001b[1m0s\u001b[0m 9ms/step - loss: 0.5483 - mae: 0.5483 - val_loss: 0.4287 - val_mae: 0.4287\n",
            "Epoch 15/100\n",
            "\u001b[1m12/12\u001b[0m \u001b[32m━━━━━━━━━━━━━━━━━━━━\u001b[0m\u001b[37m\u001b[0m \u001b[1m0s\u001b[0m 8ms/step - loss: 0.6387 - mae: 0.6387 - val_loss: 0.5032 - val_mae: 0.5032\n",
            "Epoch 16/100\n",
            "\u001b[1m12/12\u001b[0m \u001b[32m━━━━━━━━━━━━━━━━━━━━\u001b[0m\u001b[37m\u001b[0m \u001b[1m0s\u001b[0m 8ms/step - loss: 0.6870 - mae: 0.6870 - val_loss: 0.4483 - val_mae: 0.4483\n",
            "Epoch 17/100\n",
            "\u001b[1m12/12\u001b[0m \u001b[32m━━━━━━━━━━━━━━━━━━━━\u001b[0m\u001b[37m\u001b[0m \u001b[1m0s\u001b[0m 8ms/step - loss: 0.6283 - mae: 0.6283 - val_loss: 0.4408 - val_mae: 0.4408\n",
            "Epoch 18/100\n",
            "\u001b[1m12/12\u001b[0m \u001b[32m━━━━━━━━━━━━━━━━━━━━\u001b[0m\u001b[37m\u001b[0m \u001b[1m0s\u001b[0m 8ms/step - loss: 0.6518 - mae: 0.6518 - val_loss: 0.4403 - val_mae: 0.4403\n",
            "Epoch 19/100\n",
            "\u001b[1m12/12\u001b[0m \u001b[32m━━━━━━━━━━━━━━━━━━━━\u001b[0m\u001b[37m\u001b[0m \u001b[1m0s\u001b[0m 7ms/step - loss: 0.5926 - mae: 0.5926 - val_loss: 0.4534 - val_mae: 0.4534\n",
            "Epoch 20/100\n",
            "\u001b[1m12/12\u001b[0m \u001b[32m━━━━━━━━━━━━━━━━━━━━\u001b[0m\u001b[37m\u001b[0m \u001b[1m0s\u001b[0m 7ms/step - loss: 0.6125 - mae: 0.6125 - val_loss: 0.4288 - val_mae: 0.4288\n",
            "Epoch 21/100\n",
            "\u001b[1m12/12\u001b[0m \u001b[32m━━━━━━━━━━━━━━━━━━━━\u001b[0m\u001b[37m\u001b[0m \u001b[1m0s\u001b[0m 8ms/step - loss: 0.5475 - mae: 0.5475 - val_loss: 0.4460 - val_mae: 0.4460\n",
            "Epoch 22/100\n",
            "\u001b[1m12/12\u001b[0m \u001b[32m━━━━━━━━━━━━━━━━━━━━\u001b[0m\u001b[37m\u001b[0m \u001b[1m0s\u001b[0m 9ms/step - loss: 0.5763 - mae: 0.5763 - val_loss: 0.3906 - val_mae: 0.3906\n",
            "Epoch 23/100\n",
            "\u001b[1m12/12\u001b[0m \u001b[32m━━━━━━━━━━━━━━━━━━━━\u001b[0m\u001b[37m\u001b[0m \u001b[1m0s\u001b[0m 7ms/step - loss: 0.5498 - mae: 0.5498 - val_loss: 0.4380 - val_mae: 0.4380\n",
            "Epoch 24/100\n",
            "\u001b[1m12/12\u001b[0m \u001b[32m━━━━━━━━━━━━━━━━━━━━\u001b[0m\u001b[37m\u001b[0m \u001b[1m0s\u001b[0m 7ms/step - loss: 0.5839 - mae: 0.5839 - val_loss: 0.3938 - val_mae: 0.3938\n",
            "Epoch 25/100\n",
            "\u001b[1m12/12\u001b[0m \u001b[32m━━━━━━━━━━━━━━━━━━━━\u001b[0m\u001b[37m\u001b[0m \u001b[1m0s\u001b[0m 8ms/step - loss: 0.5654 - mae: 0.5654 - val_loss: 0.4007 - val_mae: 0.4007\n",
            "Epoch 26/100\n",
            "\u001b[1m12/12\u001b[0m \u001b[32m━━━━━━━━━━━━━━━━━━━━\u001b[0m\u001b[37m\u001b[0m \u001b[1m0s\u001b[0m 7ms/step - loss: 0.5230 - mae: 0.5230 - val_loss: 0.4058 - val_mae: 0.4058\n",
            "Epoch 27/100\n",
            "\u001b[1m12/12\u001b[0m \u001b[32m━━━━━━━━━━━━━━━━━━━━\u001b[0m\u001b[37m\u001b[0m \u001b[1m0s\u001b[0m 7ms/step - loss: 0.4741 - mae: 0.4741 - val_loss: 0.4236 - val_mae: 0.4236\n",
            "Epoch 28/100\n",
            "\u001b[1m12/12\u001b[0m \u001b[32m━━━━━━━━━━━━━━━━━━━━\u001b[0m\u001b[37m\u001b[0m \u001b[1m0s\u001b[0m 7ms/step - loss: 0.5200 - mae: 0.5200 - val_loss: 0.4254 - val_mae: 0.4254\n",
            "Epoch 29/100\n",
            "\u001b[1m12/12\u001b[0m \u001b[32m━━━━━━━━━━━━━━━━━━━━\u001b[0m\u001b[37m\u001b[0m \u001b[1m0s\u001b[0m 7ms/step - loss: 0.5148 - mae: 0.5148 - val_loss: 0.3915 - val_mae: 0.3915\n",
            "Epoch 30/100\n",
            "\u001b[1m12/12\u001b[0m \u001b[32m━━━━━━━━━━━━━━━━━━━━\u001b[0m\u001b[37m\u001b[0m \u001b[1m0s\u001b[0m 8ms/step - loss: 0.4810 - mae: 0.4810 - val_loss: 0.4682 - val_mae: 0.4682\n",
            "Epoch 31/100\n",
            "\u001b[1m12/12\u001b[0m \u001b[32m━━━━━━━━━━━━━━━━━━━━\u001b[0m\u001b[37m\u001b[0m \u001b[1m0s\u001b[0m 8ms/step - loss: 0.5013 - mae: 0.5013 - val_loss: 0.3795 - val_mae: 0.3795\n",
            "Epoch 32/100\n",
            "\u001b[1m12/12\u001b[0m \u001b[32m━━━━━━━━━━━━━━━━━━━━\u001b[0m\u001b[37m\u001b[0m \u001b[1m0s\u001b[0m 8ms/step - loss: 0.4995 - mae: 0.4995 - val_loss: 0.4716 - val_mae: 0.4716\n",
            "Epoch 33/100\n",
            "\u001b[1m12/12\u001b[0m \u001b[32m━━━━━━━━━━━━━━━━━━━━\u001b[0m\u001b[37m\u001b[0m \u001b[1m0s\u001b[0m 8ms/step - loss: 0.5018 - mae: 0.5018 - val_loss: 0.3649 - val_mae: 0.3649\n",
            "Epoch 34/100\n",
            "\u001b[1m12/12\u001b[0m \u001b[32m━━━━━━━━━━━━━━━━━━━━\u001b[0m\u001b[37m\u001b[0m \u001b[1m0s\u001b[0m 8ms/step - loss: 0.5252 - mae: 0.5252 - val_loss: 0.3890 - val_mae: 0.3890\n",
            "Epoch 35/100\n",
            "\u001b[1m12/12\u001b[0m \u001b[32m━━━━━━━━━━━━━━━━━━━━\u001b[0m\u001b[37m\u001b[0m \u001b[1m0s\u001b[0m 8ms/step - loss: 0.4768 - mae: 0.4768 - val_loss: 0.3883 - val_mae: 0.3883\n",
            "Epoch 36/100\n",
            "\u001b[1m12/12\u001b[0m \u001b[32m━━━━━━━━━━━━━━━━━━━━\u001b[0m\u001b[37m\u001b[0m \u001b[1m0s\u001b[0m 8ms/step - loss: 0.5527 - mae: 0.5527 - val_loss: 0.5148 - val_mae: 0.5148\n",
            "Epoch 37/100\n",
            "\u001b[1m12/12\u001b[0m \u001b[32m━━━━━━━━━━━━━━━━━━━━\u001b[0m\u001b[37m\u001b[0m \u001b[1m0s\u001b[0m 8ms/step - loss: 0.4581 - mae: 0.4581 - val_loss: 0.3572 - val_mae: 0.3572\n",
            "Epoch 38/100\n",
            "\u001b[1m12/12\u001b[0m \u001b[32m━━━━━━━━━━━━━━━━━━━━\u001b[0m\u001b[37m\u001b[0m \u001b[1m0s\u001b[0m 8ms/step - loss: 0.5770 - mae: 0.5770 - val_loss: 0.4192 - val_mae: 0.4192\n",
            "Epoch 39/100\n",
            "\u001b[1m12/12\u001b[0m \u001b[32m━━━━━━━━━━━━━━━━━━━━\u001b[0m\u001b[37m\u001b[0m \u001b[1m0s\u001b[0m 11ms/step - loss: 0.4674 - mae: 0.4674 - val_loss: 0.4155 - val_mae: 0.4155\n",
            "Epoch 40/100\n",
            "\u001b[1m12/12\u001b[0m \u001b[32m━━━━━━━━━━━━━━━━━━━━\u001b[0m\u001b[37m\u001b[0m \u001b[1m0s\u001b[0m 8ms/step - loss: 0.4384 - mae: 0.4384 - val_loss: 0.4363 - val_mae: 0.4363\n",
            "Epoch 41/100\n",
            "\u001b[1m12/12\u001b[0m \u001b[32m━━━━━━━━━━━━━━━━━━━━\u001b[0m\u001b[37m\u001b[0m \u001b[1m0s\u001b[0m 8ms/step - loss: 0.4932 - mae: 0.4932 - val_loss: 0.3508 - val_mae: 0.3508\n",
            "Epoch 42/100\n",
            "\u001b[1m12/12\u001b[0m \u001b[32m━━━━━━━━━━━━━━━━━━━━\u001b[0m\u001b[37m\u001b[0m \u001b[1m0s\u001b[0m 8ms/step - loss: 0.4534 - mae: 0.4534 - val_loss: 0.3825 - val_mae: 0.3825\n",
            "Epoch 43/100\n",
            "\u001b[1m12/12\u001b[0m \u001b[32m━━━━━━━━━━━━━━━━━━━━\u001b[0m\u001b[37m\u001b[0m \u001b[1m0s\u001b[0m 8ms/step - loss: 0.4148 - mae: 0.4148 - val_loss: 0.3458 - val_mae: 0.3458\n",
            "Epoch 44/100\n",
            "\u001b[1m12/12\u001b[0m \u001b[32m━━━━━━━━━━━━━━━━━━━━\u001b[0m\u001b[37m\u001b[0m \u001b[1m0s\u001b[0m 11ms/step - loss: 0.4083 - mae: 0.4083 - val_loss: 0.4160 - val_mae: 0.4160\n",
            "Epoch 45/100\n",
            "\u001b[1m12/12\u001b[0m \u001b[32m━━━━━━━━━━━━━━━━━━━━\u001b[0m\u001b[37m\u001b[0m \u001b[1m0s\u001b[0m 8ms/step - loss: 0.4702 - mae: 0.4702 - val_loss: 0.3300 - val_mae: 0.3300\n",
            "Epoch 46/100\n",
            "\u001b[1m12/12\u001b[0m \u001b[32m━━━━━━━━━━━━━━━━━━━━\u001b[0m\u001b[37m\u001b[0m \u001b[1m0s\u001b[0m 8ms/step - loss: 0.4720 - mae: 0.4720 - val_loss: 0.4368 - val_mae: 0.4368\n",
            "Epoch 47/100\n",
            "\u001b[1m12/12\u001b[0m \u001b[32m━━━━━━━━━━━━━━━━━━━━\u001b[0m\u001b[37m\u001b[0m \u001b[1m0s\u001b[0m 11ms/step - loss: 0.4301 - mae: 0.4301 - val_loss: 0.3356 - val_mae: 0.3356\n",
            "Epoch 48/100\n",
            "\u001b[1m12/12\u001b[0m \u001b[32m━━━━━━━━━━━━━━━━━━━━\u001b[0m\u001b[37m\u001b[0m \u001b[1m0s\u001b[0m 7ms/step - loss: 0.3935 - mae: 0.3935 - val_loss: 0.4329 - val_mae: 0.4329\n",
            "Epoch 49/100\n",
            "\u001b[1m12/12\u001b[0m \u001b[32m━━━━━━━━━━━━━━━━━━━━\u001b[0m\u001b[37m\u001b[0m \u001b[1m0s\u001b[0m 7ms/step - loss: 0.3905 - mae: 0.3905 - val_loss: 0.3311 - val_mae: 0.3311\n",
            "Epoch 50/100\n",
            "\u001b[1m12/12\u001b[0m \u001b[32m━━━━━━━━━━━━━━━━━━━━\u001b[0m\u001b[37m\u001b[0m \u001b[1m0s\u001b[0m 8ms/step - loss: 0.4117 - mae: 0.4117 - val_loss: 0.3447 - val_mae: 0.3447\n",
            "Epoch 51/100\n",
            "\u001b[1m12/12\u001b[0m \u001b[32m━━━━━━━━━━━━━━━━━━━━\u001b[0m\u001b[37m\u001b[0m \u001b[1m0s\u001b[0m 8ms/step - loss: 0.5057 - mae: 0.5057 - val_loss: 0.3227 - val_mae: 0.3227\n",
            "Epoch 52/100\n",
            "\u001b[1m12/12\u001b[0m \u001b[32m━━━━━━━━━━━━━━━━━━━━\u001b[0m\u001b[37m\u001b[0m \u001b[1m0s\u001b[0m 7ms/step - loss: 0.4619 - mae: 0.4619 - val_loss: 0.3570 - val_mae: 0.3570\n",
            "Epoch 53/100\n",
            "\u001b[1m12/12\u001b[0m \u001b[32m━━━━━━━━━━━━━━━━━━━━\u001b[0m\u001b[37m\u001b[0m \u001b[1m0s\u001b[0m 9ms/step - loss: 0.4194 - mae: 0.4194 - val_loss: 0.3642 - val_mae: 0.3642\n",
            "Epoch 54/100\n",
            "\u001b[1m12/12\u001b[0m \u001b[32m━━━━━━━━━━━━━━━━━━━━\u001b[0m\u001b[37m\u001b[0m \u001b[1m0s\u001b[0m 8ms/step - loss: 0.4211 - mae: 0.4211 - val_loss: 0.3623 - val_mae: 0.3623\n",
            "Epoch 55/100\n",
            "\u001b[1m12/12\u001b[0m \u001b[32m━━━━━━━━━━━━━━━━━━━━\u001b[0m\u001b[37m\u001b[0m \u001b[1m0s\u001b[0m 8ms/step - loss: 0.3942 - mae: 0.3942 - val_loss: 0.3256 - val_mae: 0.3256\n",
            "Epoch 56/100\n",
            "\u001b[1m12/12\u001b[0m \u001b[32m━━━━━━━━━━━━━━━━━━━━\u001b[0m\u001b[37m\u001b[0m \u001b[1m0s\u001b[0m 8ms/step - loss: 0.4003 - mae: 0.4003 - val_loss: 0.3762 - val_mae: 0.3762\n",
            "Epoch 57/100\n",
            "\u001b[1m12/12\u001b[0m \u001b[32m━━━━━━━━━━━━━━━━━━━━\u001b[0m\u001b[37m\u001b[0m \u001b[1m0s\u001b[0m 7ms/step - loss: 0.4159 - mae: 0.4159 - val_loss: 0.3192 - val_mae: 0.3192\n",
            "Epoch 58/100\n",
            "\u001b[1m12/12\u001b[0m \u001b[32m━━━━━━━━━━━━━━━━━━━━\u001b[0m\u001b[37m\u001b[0m \u001b[1m0s\u001b[0m 8ms/step - loss: 0.3993 - mae: 0.3993 - val_loss: 0.3432 - val_mae: 0.3432\n",
            "Epoch 59/100\n",
            "\u001b[1m12/12\u001b[0m \u001b[32m━━━━━━━━━━━━━━━━━━━━\u001b[0m\u001b[37m\u001b[0m \u001b[1m0s\u001b[0m 8ms/step - loss: 0.4002 - mae: 0.4002 - val_loss: 0.4033 - val_mae: 0.4033\n",
            "Epoch 60/100\n",
            "\u001b[1m12/12\u001b[0m \u001b[32m━━━━━━━━━━━━━━━━━━━━\u001b[0m\u001b[37m\u001b[0m \u001b[1m0s\u001b[0m 8ms/step - loss: 0.3988 - mae: 0.3988 - val_loss: 0.3426 - val_mae: 0.3426\n",
            "Epoch 61/100\n",
            "\u001b[1m12/12\u001b[0m \u001b[32m━━━━━━━━━━━━━━━━━━━━\u001b[0m\u001b[37m\u001b[0m \u001b[1m0s\u001b[0m 9ms/step - loss: 0.4392 - mae: 0.4392 - val_loss: 0.4182 - val_mae: 0.4182\n",
            "Epoch 62/100\n",
            "\u001b[1m12/12\u001b[0m \u001b[32m━━━━━━━━━━━━━━━━━━━━\u001b[0m\u001b[37m\u001b[0m \u001b[1m0s\u001b[0m 8ms/step - loss: 0.4081 - mae: 0.4081 - val_loss: 0.2986 - val_mae: 0.2986\n",
            "Epoch 63/100\n",
            "\u001b[1m12/12\u001b[0m \u001b[32m━━━━━━━━━━━━━━━━━━━━\u001b[0m\u001b[37m\u001b[0m \u001b[1m0s\u001b[0m 8ms/step - loss: 0.3496 - mae: 0.3496 - val_loss: 0.3273 - val_mae: 0.3273\n",
            "Epoch 64/100\n",
            "\u001b[1m12/12\u001b[0m \u001b[32m━━━━━━━━━━━━━━━━━━━━\u001b[0m\u001b[37m\u001b[0m \u001b[1m0s\u001b[0m 11ms/step - loss: 0.4042 - mae: 0.4042 - val_loss: 0.3247 - val_mae: 0.3247\n",
            "Epoch 65/100\n",
            "\u001b[1m12/12\u001b[0m \u001b[32m━━━━━━━━━━━━━━━━━━━━\u001b[0m\u001b[37m\u001b[0m \u001b[1m0s\u001b[0m 8ms/step - loss: 0.4011 - mae: 0.4011 - val_loss: 0.4399 - val_mae: 0.4399\n",
            "Epoch 66/100\n",
            "\u001b[1m12/12\u001b[0m \u001b[32m━━━━━━━━━━━━━━━━━━━━\u001b[0m\u001b[37m\u001b[0m \u001b[1m0s\u001b[0m 8ms/step - loss: 0.4746 - mae: 0.4746 - val_loss: 0.3451 - val_mae: 0.3451\n",
            "Epoch 67/100\n",
            "\u001b[1m12/12\u001b[0m \u001b[32m━━━━━━━━━━━━━━━━━━━━\u001b[0m\u001b[37m\u001b[0m \u001b[1m0s\u001b[0m 7ms/step - loss: 0.4241 - mae: 0.4241 - val_loss: 0.3319 - val_mae: 0.3319\n",
            "Epoch 68/100\n",
            "\u001b[1m12/12\u001b[0m \u001b[32m━━━━━━━━━━━━━━━━━━━━\u001b[0m\u001b[37m\u001b[0m \u001b[1m0s\u001b[0m 9ms/step - loss: 0.4304 - mae: 0.4304 - val_loss: 0.4070 - val_mae: 0.4070\n",
            "Epoch 69/100\n",
            "\u001b[1m12/12\u001b[0m \u001b[32m━━━━━━━━━━━━━━━━━━━━\u001b[0m\u001b[37m\u001b[0m \u001b[1m0s\u001b[0m 8ms/step - loss: 0.3761 - mae: 0.3761 - val_loss: 0.3287 - val_mae: 0.3287\n",
            "Epoch 70/100\n",
            "\u001b[1m12/12\u001b[0m \u001b[32m━━━━━━━━━━━━━━━━━━━━\u001b[0m\u001b[37m\u001b[0m \u001b[1m0s\u001b[0m 8ms/step - loss: 0.3325 - mae: 0.3325 - val_loss: 0.3268 - val_mae: 0.3268\n",
            "Epoch 71/100\n",
            "\u001b[1m12/12\u001b[0m \u001b[32m━━━━━━━━━━━━━━━━━━━━\u001b[0m\u001b[37m\u001b[0m \u001b[1m0s\u001b[0m 7ms/step - loss: 0.3590 - mae: 0.3590 - val_loss: 0.3287 - val_mae: 0.3287\n",
            "Epoch 72/100\n",
            "\u001b[1m12/12\u001b[0m \u001b[32m━━━━━━━━━━━━━━━━━━━━\u001b[0m\u001b[37m\u001b[0m \u001b[1m0s\u001b[0m 8ms/step - loss: 0.4049 - mae: 0.4049 - val_loss: 0.2987 - val_mae: 0.2987\n",
            "Epoch 73/100\n",
            "\u001b[1m12/12\u001b[0m \u001b[32m━━━━━━━━━━━━━━━━━━━━\u001b[0m\u001b[37m\u001b[0m \u001b[1m0s\u001b[0m 8ms/step - loss: 0.3849 - mae: 0.3849 - val_loss: 0.4128 - val_mae: 0.4128\n",
            "Epoch 74/100\n",
            "\u001b[1m12/12\u001b[0m \u001b[32m━━━━━━━━━━━━━━━━━━━━\u001b[0m\u001b[37m\u001b[0m \u001b[1m0s\u001b[0m 8ms/step - loss: 0.3826 - mae: 0.3826 - val_loss: 0.3488 - val_mae: 0.3488\n",
            "Epoch 75/100\n",
            "\u001b[1m12/12\u001b[0m \u001b[32m━━━━━━━━━━━━━━━━━━━━\u001b[0m\u001b[37m\u001b[0m \u001b[1m0s\u001b[0m 8ms/step - loss: 0.3324 - mae: 0.3324 - val_loss: 0.4605 - val_mae: 0.4605\n",
            "Epoch 76/100\n",
            "\u001b[1m12/12\u001b[0m \u001b[32m━━━━━━━━━━━━━━━━━━━━\u001b[0m\u001b[37m\u001b[0m \u001b[1m0s\u001b[0m 12ms/step - loss: 0.3460 - mae: 0.3460 - val_loss: 0.3136 - val_mae: 0.3136\n",
            "Epoch 77/100\n",
            "\u001b[1m12/12\u001b[0m \u001b[32m━━━━━━━━━━━━━━━━━━━━\u001b[0m\u001b[37m\u001b[0m \u001b[1m0s\u001b[0m 8ms/step - loss: 0.3395 - mae: 0.3395 - val_loss: 0.3189 - val_mae: 0.3189\n",
            "Epoch 78/100\n",
            "\u001b[1m12/12\u001b[0m \u001b[32m━━━━━━━━━━━━━━━━━━━━\u001b[0m\u001b[37m\u001b[0m \u001b[1m0s\u001b[0m 8ms/step - loss: 0.3494 - mae: 0.3494 - val_loss: 0.3745 - val_mae: 0.3745\n",
            "Epoch 79/100\n",
            "\u001b[1m12/12\u001b[0m \u001b[32m━━━━━━━━━━━━━━━━━━━━\u001b[0m\u001b[37m\u001b[0m \u001b[1m0s\u001b[0m 8ms/step - loss: 0.4067 - mae: 0.4067 - val_loss: 0.2838 - val_mae: 0.2838\n",
            "Epoch 80/100\n",
            "\u001b[1m12/12\u001b[0m \u001b[32m━━━━━━━━━━━━━━━━━━━━\u001b[0m\u001b[37m\u001b[0m \u001b[1m0s\u001b[0m 8ms/step - loss: 0.3544 - mae: 0.3544 - val_loss: 0.3244 - val_mae: 0.3244\n",
            "Epoch 81/100\n",
            "\u001b[1m12/12\u001b[0m \u001b[32m━━━━━━━━━━━━━━━━━━━━\u001b[0m\u001b[37m\u001b[0m \u001b[1m0s\u001b[0m 8ms/step - loss: 0.3740 - mae: 0.3740 - val_loss: 0.3531 - val_mae: 0.3531\n",
            "Epoch 82/100\n",
            "\u001b[1m12/12\u001b[0m \u001b[32m━━━━━━━━━━━━━━━━━━━━\u001b[0m\u001b[37m\u001b[0m \u001b[1m0s\u001b[0m 8ms/step - loss: 0.3769 - mae: 0.3769 - val_loss: 0.4196 - val_mae: 0.4196\n",
            "Epoch 83/100\n",
            "\u001b[1m12/12\u001b[0m \u001b[32m━━━━━━━━━━━━━━━━━━━━\u001b[0m\u001b[37m\u001b[0m \u001b[1m0s\u001b[0m 8ms/step - loss: 0.3645 - mae: 0.3645 - val_loss: 0.3271 - val_mae: 0.3271\n",
            "Epoch 84/100\n",
            "\u001b[1m12/12\u001b[0m \u001b[32m━━━━━━━━━━━━━━━━━━━━\u001b[0m\u001b[37m\u001b[0m \u001b[1m0s\u001b[0m 9ms/step - loss: 0.3396 - mae: 0.3396 - val_loss: 0.3637 - val_mae: 0.3637\n",
            "Epoch 85/100\n",
            "\u001b[1m12/12\u001b[0m \u001b[32m━━━━━━━━━━━━━━━━━━━━\u001b[0m\u001b[37m\u001b[0m \u001b[1m0s\u001b[0m 8ms/step - loss: 0.3665 - mae: 0.3665 - val_loss: 0.3718 - val_mae: 0.3718\n",
            "Epoch 86/100\n",
            "\u001b[1m12/12\u001b[0m \u001b[32m━━━━━━━━━━━━━━━━━━━━\u001b[0m\u001b[37m\u001b[0m \u001b[1m0s\u001b[0m 8ms/step - loss: 0.4045 - mae: 0.4045 - val_loss: 0.2934 - val_mae: 0.2934\n",
            "Epoch 87/100\n",
            "\u001b[1m12/12\u001b[0m \u001b[32m━━━━━━━━━━━━━━━━━━━━\u001b[0m\u001b[37m\u001b[0m \u001b[1m0s\u001b[0m 13ms/step - loss: 0.3171 - mae: 0.3171 - val_loss: 0.4027 - val_mae: 0.4027\n",
            "Epoch 88/100\n",
            "\u001b[1m12/12\u001b[0m \u001b[32m━━━━━━━━━━━━━━━━━━━━\u001b[0m\u001b[37m\u001b[0m \u001b[1m0s\u001b[0m 15ms/step - loss: 0.3616 - mae: 0.3616 - val_loss: 0.4231 - val_mae: 0.4231\n",
            "Epoch 89/100\n",
            "\u001b[1m12/12\u001b[0m \u001b[32m━━━━━━━━━━━━━━━━━━━━\u001b[0m\u001b[37m\u001b[0m \u001b[1m0s\u001b[0m 14ms/step - loss: 0.3444 - mae: 0.3444 - val_loss: 0.2615 - val_mae: 0.2615\n",
            "Epoch 90/100\n",
            "\u001b[1m12/12\u001b[0m \u001b[32m━━━━━━━━━━━━━━━━━━━━\u001b[0m\u001b[37m\u001b[0m \u001b[1m0s\u001b[0m 11ms/step - loss: 0.3861 - mae: 0.3861 - val_loss: 0.3343 - val_mae: 0.3343\n",
            "Epoch 91/100\n",
            "\u001b[1m12/12\u001b[0m \u001b[32m━━━━━━━━━━━━━━━━━━━━\u001b[0m\u001b[37m\u001b[0m \u001b[1m0s\u001b[0m 11ms/step - loss: 0.3619 - mae: 0.3619 - val_loss: 0.3762 - val_mae: 0.3762\n",
            "Epoch 92/100\n",
            "\u001b[1m12/12\u001b[0m \u001b[32m━━━━━━━━━━━━━━━━━━━━\u001b[0m\u001b[37m\u001b[0m \u001b[1m0s\u001b[0m 14ms/step - loss: 0.3524 - mae: 0.3524 - val_loss: 0.2764 - val_mae: 0.2764\n",
            "Epoch 93/100\n",
            "\u001b[1m12/12\u001b[0m \u001b[32m━━━━━━━━━━━━━━━━━━━━\u001b[0m\u001b[37m\u001b[0m \u001b[1m0s\u001b[0m 14ms/step - loss: 0.2951 - mae: 0.2951 - val_loss: 0.4454 - val_mae: 0.4454\n",
            "Epoch 94/100\n",
            "\u001b[1m12/12\u001b[0m \u001b[32m━━━━━━━━━━━━━━━━━━━━\u001b[0m\u001b[37m\u001b[0m \u001b[1m0s\u001b[0m 13ms/step - loss: 0.3759 - mae: 0.3759 - val_loss: 0.3155 - val_mae: 0.3155\n",
            "Epoch 95/100\n",
            "\u001b[1m12/12\u001b[0m \u001b[32m━━━━━━━━━━━━━━━━━━━━\u001b[0m\u001b[37m\u001b[0m \u001b[1m0s\u001b[0m 14ms/step - loss: 0.3579 - mae: 0.3579 - val_loss: 0.3292 - val_mae: 0.3292\n",
            "Epoch 96/100\n",
            "\u001b[1m12/12\u001b[0m \u001b[32m━━━━━━━━━━━━━━━━━━━━\u001b[0m\u001b[37m\u001b[0m \u001b[1m0s\u001b[0m 9ms/step - loss: 0.3025 - mae: 0.3025 - val_loss: 0.3145 - val_mae: 0.3145\n",
            "Epoch 97/100\n",
            "\u001b[1m12/12\u001b[0m \u001b[32m━━━━━━━━━━━━━━━━━━━━\u001b[0m\u001b[37m\u001b[0m \u001b[1m0s\u001b[0m 7ms/step - loss: 0.3593 - mae: 0.3593 - val_loss: 0.3897 - val_mae: 0.3897\n",
            "Epoch 98/100\n",
            "\u001b[1m12/12\u001b[0m \u001b[32m━━━━━━━━━━━━━━━━━━━━\u001b[0m\u001b[37m\u001b[0m \u001b[1m0s\u001b[0m 8ms/step - loss: 0.3199 - mae: 0.3199 - val_loss: 0.3131 - val_mae: 0.3131\n",
            "Epoch 99/100\n",
            "\u001b[1m12/12\u001b[0m \u001b[32m━━━━━━━━━━━━━━━━━━━━\u001b[0m\u001b[37m\u001b[0m \u001b[1m0s\u001b[0m 8ms/step - loss: 0.3354 - mae: 0.3354 - val_loss: 0.3539 - val_mae: 0.3539\n",
            "Epoch 100/100\n",
            "\u001b[1m12/12\u001b[0m \u001b[32m━━━━━━━━━━━━━━━━━━━━\u001b[0m\u001b[37m\u001b[0m \u001b[1m0s\u001b[0m 9ms/step - loss: 0.3406 - mae: 0.3406 - val_loss: 0.3969 - val_mae: 0.3969\n",
            "\u001b[1m2/2\u001b[0m \u001b[32m━━━━━━━━━━━━━━━━━━━━\u001b[0m\u001b[37m\u001b[0m \u001b[1m0s\u001b[0m 62ms/step\n"
          ]
        }
      ]
    },
    {
      "cell_type": "code",
      "source": [
        "# Train the model and store training history\n",
        "history = nn_model.fit(X_train, y_train, validation_data=(X_test, y_test), epochs=100, batch_size=32, verbose=1)\n",
        "\n",
        "# Plot training & validation loss\n",
        "plt.plot(history.history['loss'], label='Training Loss')\n",
        "plt.plot(history.history['val_loss'], label='Validation Loss')\n",
        "plt.xlabel('Epochs')\n",
        "plt.ylabel('Loss')\n",
        "plt.legend()\n",
        "plt.title(\"Neural Network Training vs. Validation Loss\")\n",
        "plt.show()\n"
      ],
      "metadata": {
        "colab": {
          "base_uri": "https://localhost:8080/",
          "height": 1000
        },
        "id": "C51tL1DW__He",
        "outputId": "425274a9-e592-4195-f079-87222bd2ac36",
        "collapsed": true
      },
      "id": "C51tL1DW__He",
      "execution_count": null,
      "outputs": [
        {
          "output_type": "stream",
          "name": "stdout",
          "text": [
            "Epoch 1/100\n",
            "\u001b[1m6/6\u001b[0m \u001b[32m━━━━━━━━━━━━━━━━━━━━\u001b[0m\u001b[37m\u001b[0m \u001b[1m0s\u001b[0m 78ms/step - loss: 83.5771 - mae: 83.5771 - val_loss: 8.6158 - val_mae: 8.6158\n",
            "Epoch 2/100\n",
            "\u001b[1m6/6\u001b[0m \u001b[32m━━━━━━━━━━━━━━━━━━━━\u001b[0m\u001b[37m\u001b[0m \u001b[1m0s\u001b[0m 18ms/step - loss: 13.7745 - mae: 13.7745 - val_loss: 8.8642 - val_mae: 8.8642\n",
            "Epoch 3/100\n",
            "\u001b[1m6/6\u001b[0m \u001b[32m━━━━━━━━━━━━━━━━━━━━\u001b[0m\u001b[37m\u001b[0m \u001b[1m0s\u001b[0m 16ms/step - loss: 6.8092 - mae: 6.8092 - val_loss: 3.6061 - val_mae: 3.6061\n",
            "Epoch 4/100\n",
            "\u001b[1m6/6\u001b[0m \u001b[32m━━━━━━━━━━━━━━━━━━━━\u001b[0m\u001b[37m\u001b[0m \u001b[1m0s\u001b[0m 17ms/step - loss: 5.7606 - mae: 5.7606 - val_loss: 1.6601 - val_mae: 1.6601\n",
            "Epoch 5/100\n",
            "\u001b[1m6/6\u001b[0m \u001b[32m━━━━━━━━━━━━━━━━━━━━\u001b[0m\u001b[37m\u001b[0m \u001b[1m0s\u001b[0m 18ms/step - loss: 4.1982 - mae: 4.1982 - val_loss: 2.1668 - val_mae: 2.1668\n",
            "Epoch 6/100\n",
            "\u001b[1m6/6\u001b[0m \u001b[32m━━━━━━━━━━━━━━━━━━━━\u001b[0m\u001b[37m\u001b[0m \u001b[1m0s\u001b[0m 17ms/step - loss: 2.6154 - mae: 2.6154 - val_loss: 1.9181 - val_mae: 1.9181\n",
            "Epoch 7/100\n",
            "\u001b[1m6/6\u001b[0m \u001b[32m━━━━━━━━━━━━━━━━━━━━\u001b[0m\u001b[37m\u001b[0m \u001b[1m0s\u001b[0m 19ms/step - loss: 2.9796 - mae: 2.9796 - val_loss: 1.7487 - val_mae: 1.7487\n",
            "Epoch 8/100\n",
            "\u001b[1m6/6\u001b[0m \u001b[32m━━━━━━━━━━━━━━━━━━━━\u001b[0m\u001b[37m\u001b[0m \u001b[1m0s\u001b[0m 18ms/step - loss: 2.5642 - mae: 2.5642 - val_loss: 2.0650 - val_mae: 2.0650\n",
            "Epoch 9/100\n",
            "\u001b[1m6/6\u001b[0m \u001b[32m━━━━━━━━━━━━━━━━━━━━\u001b[0m\u001b[37m\u001b[0m \u001b[1m0s\u001b[0m 24ms/step - loss: 2.2713 - mae: 2.2713 - val_loss: 1.8123 - val_mae: 1.8123\n",
            "Epoch 10/100\n",
            "\u001b[1m6/6\u001b[0m \u001b[32m━━━━━━━━━━━━━━━━━━━━\u001b[0m\u001b[37m\u001b[0m \u001b[1m0s\u001b[0m 20ms/step - loss: 2.7196 - mae: 2.7196 - val_loss: 1.7797 - val_mae: 1.7797\n",
            "Epoch 11/100\n",
            "\u001b[1m6/6\u001b[0m \u001b[32m━━━━━━━━━━━━━━━━━━━━\u001b[0m\u001b[37m\u001b[0m \u001b[1m0s\u001b[0m 17ms/step - loss: 2.2314 - mae: 2.2314 - val_loss: 1.8752 - val_mae: 1.8752\n",
            "Epoch 12/100\n",
            "\u001b[1m6/6\u001b[0m \u001b[32m━━━━━━━━━━━━━━━━━━━━\u001b[0m\u001b[37m\u001b[0m \u001b[1m0s\u001b[0m 16ms/step - loss: 2.0805 - mae: 2.0805 - val_loss: 1.5934 - val_mae: 1.5934\n",
            "Epoch 13/100\n",
            "\u001b[1m6/6\u001b[0m \u001b[32m━━━━━━━━━━━━━━━━━━━━\u001b[0m\u001b[37m\u001b[0m \u001b[1m0s\u001b[0m 18ms/step - loss: 2.3558 - mae: 2.3558 - val_loss: 1.5166 - val_mae: 1.5166\n",
            "Epoch 14/100\n",
            "\u001b[1m6/6\u001b[0m \u001b[32m━━━━━━━━━━━━━━━━━━━━\u001b[0m\u001b[37m\u001b[0m \u001b[1m0s\u001b[0m 24ms/step - loss: 2.2521 - mae: 2.2521 - val_loss: 1.5084 - val_mae: 1.5084\n",
            "Epoch 15/100\n",
            "\u001b[1m6/6\u001b[0m \u001b[32m━━━━━━━━━━━━━━━━━━━━\u001b[0m\u001b[37m\u001b[0m \u001b[1m0s\u001b[0m 18ms/step - loss: 2.1948 - mae: 2.1948 - val_loss: 1.7245 - val_mae: 1.7245\n",
            "Epoch 16/100\n",
            "\u001b[1m6/6\u001b[0m \u001b[32m━━━━━━━━━━━━━━━━━━━━\u001b[0m\u001b[37m\u001b[0m \u001b[1m0s\u001b[0m 20ms/step - loss: 2.2165 - mae: 2.2165 - val_loss: 1.5515 - val_mae: 1.5515\n",
            "Epoch 17/100\n",
            "\u001b[1m6/6\u001b[0m \u001b[32m━━━━━━━━━━━━━━━━━━━━\u001b[0m\u001b[37m\u001b[0m \u001b[1m0s\u001b[0m 17ms/step - loss: 2.0176 - mae: 2.0176 - val_loss: 1.4672 - val_mae: 1.4672\n",
            "Epoch 18/100\n",
            "\u001b[1m6/6\u001b[0m \u001b[32m━━━━━━━━━━━━━━━━━━━━\u001b[0m\u001b[37m\u001b[0m \u001b[1m0s\u001b[0m 24ms/step - loss: 2.0080 - mae: 2.0080 - val_loss: 1.4800 - val_mae: 1.4800\n",
            "Epoch 19/100\n",
            "\u001b[1m6/6\u001b[0m \u001b[32m━━━━━━━━━━━━━━━━━━━━\u001b[0m\u001b[37m\u001b[0m \u001b[1m0s\u001b[0m 18ms/step - loss: 1.8097 - mae: 1.8097 - val_loss: 1.4542 - val_mae: 1.4542\n",
            "Epoch 20/100\n",
            "\u001b[1m6/6\u001b[0m \u001b[32m━━━━━━━━━━━━━━━━━━━━\u001b[0m\u001b[37m\u001b[0m \u001b[1m0s\u001b[0m 17ms/step - loss: 1.8873 - mae: 1.8873 - val_loss: 1.6891 - val_mae: 1.6891\n",
            "Epoch 21/100\n",
            "\u001b[1m6/6\u001b[0m \u001b[32m━━━━━━━━━━━━━━━━━━━━\u001b[0m\u001b[37m\u001b[0m \u001b[1m0s\u001b[0m 18ms/step - loss: 2.0654 - mae: 2.0654 - val_loss: 1.5641 - val_mae: 1.5641\n",
            "Epoch 22/100\n",
            "\u001b[1m6/6\u001b[0m \u001b[32m━━━━━━━━━━━━━━━━━━━━\u001b[0m\u001b[37m\u001b[0m \u001b[1m0s\u001b[0m 18ms/step - loss: 1.7908 - mae: 1.7908 - val_loss: 1.4050 - val_mae: 1.4050\n",
            "Epoch 23/100\n",
            "\u001b[1m6/6\u001b[0m \u001b[32m━━━━━━━━━━━━━━━━━━━━\u001b[0m\u001b[37m\u001b[0m \u001b[1m0s\u001b[0m 17ms/step - loss: 1.7276 - mae: 1.7276 - val_loss: 1.3817 - val_mae: 1.3817\n",
            "Epoch 24/100\n",
            "\u001b[1m6/6\u001b[0m \u001b[32m━━━━━━━━━━━━━━━━━━━━\u001b[0m\u001b[37m\u001b[0m \u001b[1m0s\u001b[0m 18ms/step - loss: 1.7744 - mae: 1.7744 - val_loss: 1.4528 - val_mae: 1.4528\n",
            "Epoch 25/100\n",
            "\u001b[1m6/6\u001b[0m \u001b[32m━━━━━━━━━━━━━━━━━━━━\u001b[0m\u001b[37m\u001b[0m \u001b[1m0s\u001b[0m 18ms/step - loss: 1.6394 - mae: 1.6394 - val_loss: 1.3769 - val_mae: 1.3769\n",
            "Epoch 26/100\n",
            "\u001b[1m6/6\u001b[0m \u001b[32m━━━━━━━━━━━━━━━━━━━━\u001b[0m\u001b[37m\u001b[0m \u001b[1m0s\u001b[0m 25ms/step - loss: 1.6862 - mae: 1.6862 - val_loss: 1.4295 - val_mae: 1.4295\n",
            "Epoch 27/100\n",
            "\u001b[1m6/6\u001b[0m \u001b[32m━━━━━━━━━━━━━━━━━━━━\u001b[0m\u001b[37m\u001b[0m \u001b[1m0s\u001b[0m 17ms/step - loss: 1.7040 - mae: 1.7040 - val_loss: 1.3403 - val_mae: 1.3403\n",
            "Epoch 28/100\n",
            "\u001b[1m6/6\u001b[0m \u001b[32m━━━━━━━━━━━━━━━━━━━━\u001b[0m\u001b[37m\u001b[0m \u001b[1m0s\u001b[0m 25ms/step - loss: 1.7290 - mae: 1.7290 - val_loss: 1.4449 - val_mae: 1.4449\n",
            "Epoch 29/100\n",
            "\u001b[1m6/6\u001b[0m \u001b[32m━━━━━━━━━━━━━━━━━━━━\u001b[0m\u001b[37m\u001b[0m \u001b[1m0s\u001b[0m 18ms/step - loss: 1.8568 - mae: 1.8568 - val_loss: 1.2939 - val_mae: 1.2939\n",
            "Epoch 30/100\n",
            "\u001b[1m6/6\u001b[0m \u001b[32m━━━━━━━━━━━━━━━━━━━━\u001b[0m\u001b[37m\u001b[0m \u001b[1m0s\u001b[0m 17ms/step - loss: 1.5455 - mae: 1.5455 - val_loss: 1.3590 - val_mae: 1.3590\n",
            "Epoch 31/100\n",
            "\u001b[1m6/6\u001b[0m \u001b[32m━━━━━━━━━━━━━━━━━━━━\u001b[0m\u001b[37m\u001b[0m \u001b[1m0s\u001b[0m 21ms/step - loss: 1.5467 - mae: 1.5467 - val_loss: 1.3575 - val_mae: 1.3575\n",
            "Epoch 32/100\n",
            "\u001b[1m6/6\u001b[0m \u001b[32m━━━━━━━━━━━━━━━━━━━━\u001b[0m\u001b[37m\u001b[0m \u001b[1m0s\u001b[0m 18ms/step - loss: 1.6207 - mae: 1.6207 - val_loss: 1.2834 - val_mae: 1.2834\n",
            "Epoch 33/100\n",
            "\u001b[1m6/6\u001b[0m \u001b[32m━━━━━━━━━━━━━━━━━━━━\u001b[0m\u001b[37m\u001b[0m \u001b[1m0s\u001b[0m 18ms/step - loss: 1.5564 - mae: 1.5564 - val_loss: 1.2693 - val_mae: 1.2693\n",
            "Epoch 34/100\n",
            "\u001b[1m6/6\u001b[0m \u001b[32m━━━━━━━━━━━━━━━━━━━━\u001b[0m\u001b[37m\u001b[0m \u001b[1m0s\u001b[0m 18ms/step - loss: 1.5556 - mae: 1.5556 - val_loss: 1.5405 - val_mae: 1.5405\n",
            "Epoch 35/100\n",
            "\u001b[1m6/6\u001b[0m \u001b[32m━━━━━━━━━━━━━━━━━━━━\u001b[0m\u001b[37m\u001b[0m \u001b[1m0s\u001b[0m 17ms/step - loss: 1.6744 - mae: 1.6744 - val_loss: 1.2287 - val_mae: 1.2287\n",
            "Epoch 36/100\n",
            "\u001b[1m6/6\u001b[0m \u001b[32m━━━━━━━━━━━━━━━━━━━━\u001b[0m\u001b[37m\u001b[0m \u001b[1m0s\u001b[0m 20ms/step - loss: 1.6380 - mae: 1.6380 - val_loss: 1.1805 - val_mae: 1.1805\n",
            "Epoch 37/100\n",
            "\u001b[1m6/6\u001b[0m \u001b[32m━━━━━━━━━━━━━━━━━━━━\u001b[0m\u001b[37m\u001b[0m \u001b[1m0s\u001b[0m 18ms/step - loss: 1.5887 - mae: 1.5887 - val_loss: 1.6167 - val_mae: 1.6167\n",
            "Epoch 38/100\n",
            "\u001b[1m6/6\u001b[0m \u001b[32m━━━━━━━━━━━━━━━━━━━━\u001b[0m\u001b[37m\u001b[0m \u001b[1m0s\u001b[0m 17ms/step - loss: 1.6139 - mae: 1.6139 - val_loss: 1.1772 - val_mae: 1.1772\n",
            "Epoch 39/100\n",
            "\u001b[1m6/6\u001b[0m \u001b[32m━━━━━━━━━━━━━━━━━━━━\u001b[0m\u001b[37m\u001b[0m \u001b[1m0s\u001b[0m 17ms/step - loss: 1.5450 - mae: 1.5450 - val_loss: 1.1748 - val_mae: 1.1748\n",
            "Epoch 40/100\n",
            "\u001b[1m6/6\u001b[0m \u001b[32m━━━━━━━━━━━━━━━━━━━━\u001b[0m\u001b[37m\u001b[0m \u001b[1m0s\u001b[0m 17ms/step - loss: 1.4093 - mae: 1.4093 - val_loss: 1.3941 - val_mae: 1.3941\n",
            "Epoch 41/100\n",
            "\u001b[1m6/6\u001b[0m \u001b[32m━━━━━━━━━━━━━━━━━━━━\u001b[0m\u001b[37m\u001b[0m \u001b[1m0s\u001b[0m 16ms/step - loss: 1.3728 - mae: 1.3728 - val_loss: 1.1047 - val_mae: 1.1047\n",
            "Epoch 42/100\n",
            "\u001b[1m6/6\u001b[0m \u001b[32m━━━━━━━━━━━━━━━━━━━━\u001b[0m\u001b[37m\u001b[0m \u001b[1m0s\u001b[0m 17ms/step - loss: 1.6092 - mae: 1.6092 - val_loss: 1.0836 - val_mae: 1.0836\n",
            "Epoch 43/100\n",
            "\u001b[1m6/6\u001b[0m \u001b[32m━━━━━━━━━━━━━━━━━━━━\u001b[0m\u001b[37m\u001b[0m \u001b[1m0s\u001b[0m 25ms/step - loss: 1.6242 - mae: 1.6242 - val_loss: 1.1492 - val_mae: 1.1492\n",
            "Epoch 44/100\n",
            "\u001b[1m6/6\u001b[0m \u001b[32m━━━━━━━━━━━━━━━━━━━━\u001b[0m\u001b[37m\u001b[0m \u001b[1m0s\u001b[0m 16ms/step - loss: 1.2636 - mae: 1.2636 - val_loss: 1.0233 - val_mae: 1.0233\n",
            "Epoch 45/100\n",
            "\u001b[1m6/6\u001b[0m \u001b[32m━━━━━━━━━━━━━━━━━━━━\u001b[0m\u001b[37m\u001b[0m \u001b[1m0s\u001b[0m 25ms/step - loss: 1.2348 - mae: 1.2348 - val_loss: 0.9986 - val_mae: 0.9986\n",
            "Epoch 46/100\n",
            "\u001b[1m6/6\u001b[0m \u001b[32m━━━━━━━━━━━━━━━━━━━━\u001b[0m\u001b[37m\u001b[0m \u001b[1m0s\u001b[0m 16ms/step - loss: 1.3683 - mae: 1.3683 - val_loss: 0.9875 - val_mae: 0.9875\n",
            "Epoch 47/100\n",
            "\u001b[1m6/6\u001b[0m \u001b[32m━━━━━━━━━━━━━━━━━━━━\u001b[0m\u001b[37m\u001b[0m \u001b[1m0s\u001b[0m 25ms/step - loss: 1.3374 - mae: 1.3374 - val_loss: 1.1796 - val_mae: 1.1796\n",
            "Epoch 48/100\n",
            "\u001b[1m6/6\u001b[0m \u001b[32m━━━━━━━━━━━━━━━━━━━━\u001b[0m\u001b[37m\u001b[0m \u001b[1m0s\u001b[0m 18ms/step - loss: 1.2376 - mae: 1.2376 - val_loss: 0.9665 - val_mae: 0.9665\n",
            "Epoch 49/100\n",
            "\u001b[1m6/6\u001b[0m \u001b[32m━━━━━━━━━━━━━━━━━━━━\u001b[0m\u001b[37m\u001b[0m \u001b[1m0s\u001b[0m 18ms/step - loss: 1.2622 - mae: 1.2622 - val_loss: 0.9742 - val_mae: 0.9742\n",
            "Epoch 50/100\n",
            "\u001b[1m6/6\u001b[0m \u001b[32m━━━━━━━━━━━━━━━━━━━━\u001b[0m\u001b[37m\u001b[0m \u001b[1m0s\u001b[0m 19ms/step - loss: 1.2552 - mae: 1.2552 - val_loss: 1.1904 - val_mae: 1.1904\n",
            "Epoch 51/100\n",
            "\u001b[1m6/6\u001b[0m \u001b[32m━━━━━━━━━━━━━━━━━━━━\u001b[0m\u001b[37m\u001b[0m \u001b[1m0s\u001b[0m 17ms/step - loss: 1.4943 - mae: 1.4943 - val_loss: 0.9374 - val_mae: 0.9374\n",
            "Epoch 52/100\n",
            "\u001b[1m6/6\u001b[0m \u001b[32m━━━━━━━━━━━━━━━━━━━━\u001b[0m\u001b[37m\u001b[0m \u001b[1m0s\u001b[0m 19ms/step - loss: 1.2052 - mae: 1.2052 - val_loss: 0.9007 - val_mae: 0.9007\n",
            "Epoch 53/100\n",
            "\u001b[1m6/6\u001b[0m \u001b[32m━━━━━━━━━━━━━━━━━━━━\u001b[0m\u001b[37m\u001b[0m \u001b[1m0s\u001b[0m 17ms/step - loss: 1.1058 - mae: 1.1058 - val_loss: 1.1209 - val_mae: 1.1209\n",
            "Epoch 54/100\n",
            "\u001b[1m6/6\u001b[0m \u001b[32m━━━━━━━━━━━━━━━━━━━━\u001b[0m\u001b[37m\u001b[0m \u001b[1m0s\u001b[0m 16ms/step - loss: 1.1636 - mae: 1.1636 - val_loss: 0.8849 - val_mae: 0.8849\n",
            "Epoch 55/100\n",
            "\u001b[1m6/6\u001b[0m \u001b[32m━━━━━━━━━━━━━━━━━━━━\u001b[0m\u001b[37m\u001b[0m \u001b[1m0s\u001b[0m 16ms/step - loss: 1.1763 - mae: 1.1763 - val_loss: 0.8430 - val_mae: 0.8430\n",
            "Epoch 56/100\n",
            "\u001b[1m6/6\u001b[0m \u001b[32m━━━━━━━━━━━━━━━━━━━━\u001b[0m\u001b[37m\u001b[0m \u001b[1m0s\u001b[0m 24ms/step - loss: 1.1233 - mae: 1.1233 - val_loss: 0.8948 - val_mae: 0.8948\n",
            "Epoch 57/100\n",
            "\u001b[1m6/6\u001b[0m \u001b[32m━━━━━━━━━━━━━━━━━━━━\u001b[0m\u001b[37m\u001b[0m \u001b[1m0s\u001b[0m 18ms/step - loss: 1.1589 - mae: 1.1589 - val_loss: 0.9363 - val_mae: 0.9363\n",
            "Epoch 58/100\n",
            "\u001b[1m6/6\u001b[0m \u001b[32m━━━━━━━━━━━━━━━━━━━━\u001b[0m\u001b[37m\u001b[0m \u001b[1m0s\u001b[0m 24ms/step - loss: 1.0396 - mae: 1.0396 - val_loss: 0.9493 - val_mae: 0.9493\n",
            "Epoch 59/100\n",
            "\u001b[1m6/6\u001b[0m \u001b[32m━━━━━━━━━━━━━━━━━━━━\u001b[0m\u001b[37m\u001b[0m \u001b[1m0s\u001b[0m 18ms/step - loss: 1.0174 - mae: 1.0174 - val_loss: 0.8677 - val_mae: 0.8677\n",
            "Epoch 60/100\n",
            "\u001b[1m6/6\u001b[0m \u001b[32m━━━━━━━━━━━━━━━━━━━━\u001b[0m\u001b[37m\u001b[0m \u001b[1m0s\u001b[0m 17ms/step - loss: 1.1978 - mae: 1.1978 - val_loss: 0.8858 - val_mae: 0.8858\n",
            "Epoch 61/100\n",
            "\u001b[1m6/6\u001b[0m \u001b[32m━━━━━━━━━━━━━━━━━━━━\u001b[0m\u001b[37m\u001b[0m \u001b[1m0s\u001b[0m 18ms/step - loss: 1.1441 - mae: 1.1441 - val_loss: 0.7810 - val_mae: 0.7810\n",
            "Epoch 62/100\n",
            "\u001b[1m6/6\u001b[0m \u001b[32m━━━━━━━━━━━━━━━━━━━━\u001b[0m\u001b[37m\u001b[0m \u001b[1m0s\u001b[0m 17ms/step - loss: 0.9935 - mae: 0.9935 - val_loss: 1.0178 - val_mae: 1.0178\n",
            "Epoch 63/100\n",
            "\u001b[1m6/6\u001b[0m \u001b[32m━━━━━━━━━━━━━━━━━━━━\u001b[0m\u001b[37m\u001b[0m \u001b[1m0s\u001b[0m 16ms/step - loss: 1.1428 - mae: 1.1428 - val_loss: 0.7935 - val_mae: 0.7935\n",
            "Epoch 64/100\n",
            "\u001b[1m6/6\u001b[0m \u001b[32m━━━━━━━━━━━━━━━━━━━━\u001b[0m\u001b[37m\u001b[0m \u001b[1m0s\u001b[0m 19ms/step - loss: 0.9878 - mae: 0.9878 - val_loss: 0.7263 - val_mae: 0.7263\n",
            "Epoch 65/100\n",
            "\u001b[1m6/6\u001b[0m \u001b[32m━━━━━━━━━━━━━━━━━━━━\u001b[0m\u001b[37m\u001b[0m \u001b[1m0s\u001b[0m 26ms/step - loss: 1.1225 - mae: 1.1225 - val_loss: 0.9456 - val_mae: 0.9456\n",
            "Epoch 66/100\n",
            "\u001b[1m6/6\u001b[0m \u001b[32m━━━━━━━━━━━━━━━━━━━━\u001b[0m\u001b[37m\u001b[0m \u001b[1m0s\u001b[0m 17ms/step - loss: 0.9240 - mae: 0.9240 - val_loss: 0.7514 - val_mae: 0.7514\n",
            "Epoch 67/100\n",
            "\u001b[1m6/6\u001b[0m \u001b[32m━━━━━━━━━━━━━━━━━━━━\u001b[0m\u001b[37m\u001b[0m \u001b[1m0s\u001b[0m 17ms/step - loss: 0.9951 - mae: 0.9951 - val_loss: 0.9019 - val_mae: 0.9019\n",
            "Epoch 68/100\n",
            "\u001b[1m6/6\u001b[0m \u001b[32m━━━━━━━━━━━━━━━━━━━━\u001b[0m\u001b[37m\u001b[0m \u001b[1m0s\u001b[0m 17ms/step - loss: 1.0960 - mae: 1.0960 - val_loss: 0.7204 - val_mae: 0.7204\n",
            "Epoch 69/100\n",
            "\u001b[1m6/6\u001b[0m \u001b[32m━━━━━━━━━━━━━━━━━━━━\u001b[0m\u001b[37m\u001b[0m \u001b[1m0s\u001b[0m 30ms/step - loss: 1.0823 - mae: 1.0823 - val_loss: 0.7412 - val_mae: 0.7412\n",
            "Epoch 70/100\n",
            "\u001b[1m6/6\u001b[0m \u001b[32m━━━━━━━━━━━━━━━━━━━━\u001b[0m\u001b[37m\u001b[0m \u001b[1m0s\u001b[0m 26ms/step - loss: 1.0225 - mae: 1.0225 - val_loss: 0.8865 - val_mae: 0.8865\n",
            "Epoch 71/100\n",
            "\u001b[1m6/6\u001b[0m \u001b[32m━━━━━━━━━━━━━━━━━━━━\u001b[0m\u001b[37m\u001b[0m \u001b[1m0s\u001b[0m 30ms/step - loss: 0.9190 - mae: 0.9190 - val_loss: 0.7202 - val_mae: 0.7202\n",
            "Epoch 72/100\n",
            "\u001b[1m6/6\u001b[0m \u001b[32m━━━━━━━━━━━━━━━━━━━━\u001b[0m\u001b[37m\u001b[0m \u001b[1m0s\u001b[0m 30ms/step - loss: 1.0121 - mae: 1.0121 - val_loss: 0.6966 - val_mae: 0.6966\n",
            "Epoch 73/100\n",
            "\u001b[1m6/6\u001b[0m \u001b[32m━━━━━━━━━━━━━━━━━━━━\u001b[0m\u001b[37m\u001b[0m \u001b[1m0s\u001b[0m 30ms/step - loss: 0.9795 - mae: 0.9795 - val_loss: 0.7066 - val_mae: 0.7066\n",
            "Epoch 74/100\n",
            "\u001b[1m6/6\u001b[0m \u001b[32m━━━━━━━━━━━━━━━━━━━━\u001b[0m\u001b[37m\u001b[0m \u001b[1m0s\u001b[0m 33ms/step - loss: 0.9209 - mae: 0.9209 - val_loss: 0.7342 - val_mae: 0.7342\n",
            "Epoch 75/100\n",
            "\u001b[1m6/6\u001b[0m \u001b[32m━━━━━━━━━━━━━━━━━━━━\u001b[0m\u001b[37m\u001b[0m \u001b[1m0s\u001b[0m 31ms/step - loss: 1.0678 - mae: 1.0678 - val_loss: 0.7066 - val_mae: 0.7066\n",
            "Epoch 76/100\n",
            "\u001b[1m6/6\u001b[0m \u001b[32m━━━━━━━━━━━━━━━━━━━━\u001b[0m\u001b[37m\u001b[0m \u001b[1m0s\u001b[0m 30ms/step - loss: 0.9784 - mae: 0.9784 - val_loss: 0.7240 - val_mae: 0.7240\n",
            "Epoch 77/100\n",
            "\u001b[1m6/6\u001b[0m \u001b[32m━━━━━━━━━━━━━━━━━━━━\u001b[0m\u001b[37m\u001b[0m \u001b[1m0s\u001b[0m 26ms/step - loss: 1.0216 - mae: 1.0216 - val_loss: 0.7010 - val_mae: 0.7010\n",
            "Epoch 78/100\n",
            "\u001b[1m6/6\u001b[0m \u001b[32m━━━━━━━━━━━━━━━━━━━━\u001b[0m\u001b[37m\u001b[0m \u001b[1m0s\u001b[0m 25ms/step - loss: 0.9852 - mae: 0.9852 - val_loss: 0.7028 - val_mae: 0.7028\n",
            "Epoch 79/100\n",
            "\u001b[1m6/6\u001b[0m \u001b[32m━━━━━━━━━━━━━━━━━━━━\u001b[0m\u001b[37m\u001b[0m \u001b[1m0s\u001b[0m 18ms/step - loss: 0.9569 - mae: 0.9569 - val_loss: 0.7182 - val_mae: 0.7182\n",
            "Epoch 80/100\n",
            "\u001b[1m6/6\u001b[0m \u001b[32m━━━━━━━━━━━━━━━━━━━━\u001b[0m\u001b[37m\u001b[0m \u001b[1m0s\u001b[0m 18ms/step - loss: 1.0213 - mae: 1.0213 - val_loss: 0.7689 - val_mae: 0.7689\n",
            "Epoch 81/100\n",
            "\u001b[1m6/6\u001b[0m \u001b[32m━━━━━━━━━━━━━━━━━━━━\u001b[0m\u001b[37m\u001b[0m \u001b[1m0s\u001b[0m 16ms/step - loss: 0.9996 - mae: 0.9996 - val_loss: 0.7208 - val_mae: 0.7208\n",
            "Epoch 82/100\n",
            "\u001b[1m6/6\u001b[0m \u001b[32m━━━━━━━━━━━━━━━━━━━━\u001b[0m\u001b[37m\u001b[0m \u001b[1m0s\u001b[0m 17ms/step - loss: 0.8709 - mae: 0.8709 - val_loss: 0.8000 - val_mae: 0.8000\n",
            "Epoch 83/100\n",
            "\u001b[1m6/6\u001b[0m \u001b[32m━━━━━━━━━━━━━━━━━━━━\u001b[0m\u001b[37m\u001b[0m \u001b[1m0s\u001b[0m 17ms/step - loss: 0.9949 - mae: 0.9949 - val_loss: 0.7220 - val_mae: 0.7220\n",
            "Epoch 84/100\n",
            "\u001b[1m6/6\u001b[0m \u001b[32m━━━━━━━━━━━━━━━━━━━━\u001b[0m\u001b[37m\u001b[0m \u001b[1m0s\u001b[0m 18ms/step - loss: 0.9568 - mae: 0.9568 - val_loss: 0.7636 - val_mae: 0.7636\n",
            "Epoch 85/100\n",
            "\u001b[1m6/6\u001b[0m \u001b[32m━━━━━━━━━━━━━━━━━━━━\u001b[0m\u001b[37m\u001b[0m \u001b[1m0s\u001b[0m 19ms/step - loss: 1.0050 - mae: 1.0050 - val_loss: 0.8334 - val_mae: 0.8334\n",
            "Epoch 86/100\n",
            "\u001b[1m6/6\u001b[0m \u001b[32m━━━━━━━━━━━━━━━━━━━━\u001b[0m\u001b[37m\u001b[0m \u001b[1m0s\u001b[0m 16ms/step - loss: 0.9745 - mae: 0.9745 - val_loss: 0.7238 - val_mae: 0.7238\n",
            "Epoch 87/100\n",
            "\u001b[1m6/6\u001b[0m \u001b[32m━━━━━━━━━━━━━━━━━━━━\u001b[0m\u001b[37m\u001b[0m \u001b[1m0s\u001b[0m 17ms/step - loss: 0.8854 - mae: 0.8854 - val_loss: 0.9493 - val_mae: 0.9493\n",
            "Epoch 88/100\n",
            "\u001b[1m6/6\u001b[0m \u001b[32m━━━━━━━━━━━━━━━━━━━━\u001b[0m\u001b[37m\u001b[0m \u001b[1m0s\u001b[0m 17ms/step - loss: 0.8730 - mae: 0.8730 - val_loss: 0.7230 - val_mae: 0.7230\n",
            "Epoch 89/100\n",
            "\u001b[1m6/6\u001b[0m \u001b[32m━━━━━━━━━━━━━━━━━━━━\u001b[0m\u001b[37m\u001b[0m \u001b[1m0s\u001b[0m 16ms/step - loss: 0.9533 - mae: 0.9533 - val_loss: 0.7495 - val_mae: 0.7495\n",
            "Epoch 90/100\n",
            "\u001b[1m6/6\u001b[0m \u001b[32m━━━━━━━━━━━━━━━━━━━━\u001b[0m\u001b[37m\u001b[0m \u001b[1m0s\u001b[0m 17ms/step - loss: 0.8919 - mae: 0.8919 - val_loss: 0.9506 - val_mae: 0.9506\n",
            "Epoch 91/100\n",
            "\u001b[1m6/6\u001b[0m \u001b[32m━━━━━━━━━━━━━━━━━━━━\u001b[0m\u001b[37m\u001b[0m \u001b[1m0s\u001b[0m 17ms/step - loss: 0.9301 - mae: 0.9301 - val_loss: 0.7024 - val_mae: 0.7024\n",
            "Epoch 92/100\n",
            "\u001b[1m6/6\u001b[0m \u001b[32m━━━━━━━━━━━━━━━━━━━━\u001b[0m\u001b[37m\u001b[0m \u001b[1m0s\u001b[0m 16ms/step - loss: 0.9972 - mae: 0.9972 - val_loss: 0.9486 - val_mae: 0.9486\n",
            "Epoch 93/100\n",
            "\u001b[1m6/6\u001b[0m \u001b[32m━━━━━━━━━━━━━━━━━━━━\u001b[0m\u001b[37m\u001b[0m \u001b[1m0s\u001b[0m 18ms/step - loss: 0.9077 - mae: 0.9077 - val_loss: 0.8028 - val_mae: 0.8028\n",
            "Epoch 94/100\n",
            "\u001b[1m6/6\u001b[0m \u001b[32m━━━━━━━━━━━━━━━━━━━━\u001b[0m\u001b[37m\u001b[0m \u001b[1m0s\u001b[0m 18ms/step - loss: 0.9472 - mae: 0.9472 - val_loss: 0.7313 - val_mae: 0.7313\n",
            "Epoch 95/100\n",
            "\u001b[1m6/6\u001b[0m \u001b[32m━━━━━━━━━━━━━━━━━━━━\u001b[0m\u001b[37m\u001b[0m \u001b[1m0s\u001b[0m 17ms/step - loss: 0.9998 - mae: 0.9998 - val_loss: 0.9172 - val_mae: 0.9172\n",
            "Epoch 96/100\n",
            "\u001b[1m6/6\u001b[0m \u001b[32m━━━━━━━━━━━━━━━━━━━━\u001b[0m\u001b[37m\u001b[0m \u001b[1m0s\u001b[0m 22ms/step - loss: 0.8824 - mae: 0.8824 - val_loss: 0.7626 - val_mae: 0.7626\n",
            "Epoch 97/100\n",
            "\u001b[1m6/6\u001b[0m \u001b[32m━━━━━━━━━━━━━━━━━━━━\u001b[0m\u001b[37m\u001b[0m \u001b[1m0s\u001b[0m 16ms/step - loss: 0.8992 - mae: 0.8992 - val_loss: 0.8461 - val_mae: 0.8461\n",
            "Epoch 98/100\n",
            "\u001b[1m6/6\u001b[0m \u001b[32m━━━━━━━━━━━━━━━━━━━━\u001b[0m\u001b[37m\u001b[0m \u001b[1m0s\u001b[0m 18ms/step - loss: 0.9312 - mae: 0.9312 - val_loss: 0.7743 - val_mae: 0.7743\n",
            "Epoch 99/100\n",
            "\u001b[1m6/6\u001b[0m \u001b[32m━━━━━━━━━━━━━━━━━━━━\u001b[0m\u001b[37m\u001b[0m \u001b[1m0s\u001b[0m 18ms/step - loss: 0.8916 - mae: 0.8916 - val_loss: 0.8311 - val_mae: 0.8311\n",
            "Epoch 100/100\n",
            "\u001b[1m6/6\u001b[0m \u001b[32m━━━━━━━━━━━━━━━━━━━━\u001b[0m\u001b[37m\u001b[0m \u001b[1m0s\u001b[0m 22ms/step - loss: 0.8916 - mae: 0.8916 - val_loss: 0.7275 - val_mae: 0.7275\n"
          ]
        },
        {
          "output_type": "display_data",
          "data": {
            "text/plain": [
              "<Figure size 640x480 with 1 Axes>"
            ],
            "image/png": "[encoded data removed]"
          },
          "metadata": {}
        }
      ]
    },
    {
      "cell_type": "code",
      "source": [
        "# Print performance comparison\n",
        "print(f\"Model Comparison:\")\n",
        "print(f\"{'Model':<20} {'MAE':<15} {'R² Score':<15}\")\n",
        "print(f\"{'-'*50}\")\n",
        "print(f\"{'Neural Network':<20} {mae_nn:<15.4f} {r2_nn:<15.4f}\")\n",
        "print(f\"{'XGBoost':<20} {mae_xgb:<15.4f} {r2_xgb:<15.4f}\")\n",
        "print(f\"{'SVR':<20} {mae_svr:<15.4f} {r2_svr:<15.4f}\")\n"
      ],
      "metadata": {
        "colab": {
          "base_uri": "https://localhost:8080/"
        },
        "id": "bfdbODDUH2ky",
        "outputId": "4baa7a0b-9a9f-496c-9ce1-72550d1b6c4d"
      },
      "id": "bfdbODDUH2ky",
      "execution_count": null,
      "outputs": [
        {
          "output_type": "stream",
          "name": "stdout",
          "text": [
            "Model Comparison:\n",
            "Model                MAE             R² Score       \n",
            "--------------------------------------------------\n",
            "Neural Network       0.3467          0.9317         \n",
            "XGBoost              0.0773          0.9943         \n",
            "SVR                  0.2690          0.9492         \n"
          ]
        }
      ]
    },
    {
      "cell_type": "code",
      "source": [
        "# Print performance comparison\n",
        "print(f\"Model Comparison:\")\n",
        "print(f\"{'Model':<20} {'MAE':<15} {'R² Score':<15}\")\n",
        "print(f\"{'-'*50}\")\n",
        "# Create a bar chart to compare MAE of each model\n",
        "models = ['Neural Network', 'XGBoost', 'SVR']\n",
        "mae_values = [mae_nn, mae_xgb, mae_svr]\n",
        "r2_values = [r2_nn, r2_xgb, r2_svr]\n",
        "\n",
        "plt.figure(figsize=(12,5))\n",
        "\n",
        "# MAE Comparison\n",
        "plt.subplot(1,2,1)\n",
        "plt.bar(models, mae_values, color=['blue', 'green', 'red'])\n",
        "plt.ylabel(\"Mean Absolute Error (MAE)\")\n",
        "plt.title(\"Model Comparison - MAE\")\n",
        "\n",
        "# R² Score Comparison\n",
        "plt.subplot(1,2,2)\n",
        "plt.bar(models, r2_values, color=['blue', 'green', 'red'])\n",
        "plt.ylabel(\"R² Score\")\n",
        "plt.title(\"Model Comparison - R² Score\")\n",
        "\n",
        "plt.show()\n",
        "print(f\"{'XGBoost':<20} {mae_xgb:<15.4f} {r2_xgb:<15.4f}\")\n",
        "print(f\"{'SVR':<20} {mae_svr:<15.4f} {r2_svr:<15.4f}\")\n"
      ],
      "metadata": {
        "colab": {
          "base_uri": "https://localhost:8080/",
          "height": 555
        },
        "id": "hWHhpRGugQ2R",
        "outputId": "94b295ef-3e65-400d-a9dd-6b990b3be0ba"
      },
      "id": "hWHhpRGugQ2R",
      "execution_count": null,
      "outputs": [
        {
          "output_type": "stream",
          "name": "stdout",
          "text": [
            "Model Comparison:\n",
            "Model                MAE             R² Score       \n",
            "--------------------------------------------------\n"
          ]
        },
        {
          "output_type": "display_data",
          "data": {
            "text/plain": [
              "<Figure size 1200x500 with 2 Axes>"
            ],
            "image/png": "[encoded data removed]"
          },
          "metadata": {}
        },
        {
          "output_type": "stream",
          "name": "stdout",
          "text": [
            "XGBoost              0.0773          0.9943         \n",
            "SVR                  0.2690          0.9492         \n"
          ]
        }
      ]
    },
    {
      "cell_type": "code",
      "source": [
        "import matplotlib.pyplot as plt\n",
        "\n",
        "# Create a figure with three subplots\n",
        "plt.figure(figsize=(15,5))\n",
        "\n",
        "# Neural Network Predictions\n",
        "plt.subplot(1,3,1)\n",
        "plt.scatter(y_test, y_pred_nn, color='blue', alpha=0.5, label=\"Predictions\")\n",
        "plt.plot([min(y_test), max(y_test)], [min(y_test), max(y_test)], color='black', linestyle='dashed', label=\"Ideal Fit (y=x)\")\n",
        "plt.xlabel(\"Actual Nu\")\n",
        "plt.ylabel(\"Predicted Nu\")\n",
        "plt.title(\"Neural Network Predictions\")\n",
        "plt.legend()\n",
        "\n",
        "# XGBoost Predictions\n",
        "plt.subplot(1,3,2)\n",
        "plt.scatter(y_test, y_pred_xgb, color='green', alpha=0.5, label=\"Predictions\")\n",
        "plt.plot([min(y_test), max(y_test)], [min(y_test), max(y_test)], color='black', linestyle='dashed', label=\"Ideal Fit (y=x)\")\n",
        "plt.xlabel(\"Actual Nu\")\n",
        "plt.ylabel(\"Predicted Nu\")\n",
        "plt.title(\"XGBoost Predictions\")\n",
        "plt.legend()\n",
        "\n",
        "# SVR Predictions\n",
        "plt.subplot(1,3,3)\n",
        "plt.scatter(y_test, y_pred_svr, color='red', alpha=0.5, label=\"Predictions\")\n",
        "plt.plot([min(y_test), max(y_test)], [min(y_test), max(y_test)], color='black', linestyle='dashed', label=\"Ideal Fit (y=x)\")\n",
        "plt.xlabel(\"Actual Nu\")\n",
        "plt.ylabel(\"Predicted Nu\")\n",
        "plt.title(\"SVR Predictions\")\n",
        "plt.legend()\n",
        "\n",
        "plt.tight_layout()\n",
        "plt.show()\n"
      ],
      "metadata": {
        "colab": {
          "base_uri": "https://localhost:8080/",
          "height": 503
        },
        "id": "1CQsjG4gI80w",
        "outputId": "8a07f264-6b91-4c6b-d559-1d2d5b73258a"
      },
      "id": "1CQsjG4gI80w",
      "execution_count": null,
      "outputs": [
        {
          "output_type": "display_data",
          "data": {
            "text/plain": [
              "<Figure size 1500x500 with 3 Axes>"
            ],
            "image/png": "[encoded data removed]"
          },
          "metadata": {}
        }
      ]
    },
    {
      "cell_type": "markdown",
      "source": [
        "# Hybrid Approach: Combining Random Forest and **XGBoost**\n"
      ],
      "metadata": {
        "id": "kkPMcXtQGYil"
      },
      "id": "kkPMcXtQGYil"
    },
    {
      "cell_type": "code",
      "source": [
        "from sklearn.ensemble import RandomForestRegressor\n",
        "from xgboost import XGBRegressor\n",
        "from sklearn.metrics import mean_absolute_error\n",
        "\n",
        "# Train Random Forest\n",
        "rf_model = RandomForestRegressor(n_estimators=100, random_state=42)\n",
        "rf_model.fit(X_train, y_train)\n",
        "\n",
        "# Get Random Forest predictions\n",
        "y_pred_rf_train = rf_model.predict(X_train)\n",
        "y_pred_rf_test = rf_model.predict(X_test)\n",
        "\n",
        "# Add Random Forest predictions as a new feature\n",
        "X_train_hybrid = X_train.copy()\n",
        "X_test_hybrid = X_test.copy()\n",
        "X_train_hybrid['RF_Pred'] = y_pred_rf_train\n",
        "X_test_hybrid['RF_Pred'] = y_pred_rf_test\n",
        "\n",
        "# Train XGBoost on the hybrid dataset\n",
        "xgb_model = XGBRegressor(objective='reg:squarederror', eval_metric='mae', max_depth=6, eta=0.1, subsample=0.8, colsample_bytree=0.8, seed=42)\n",
        "xgb_model.fit(X_train_hybrid, y_train)\n",
        "\n",
        "# Make predictions\n",
        "y_pred_hybrid = xgb_model.predict(X_test_hybrid)\n",
        "\n",
        "# Evaluate the hybrid model\n",
        "mae_hybrid = mean_absolute_error(y_test, y_pred_hybrid)\n",
        "print(\"Hybrid Model (RF + XGBoost) MAE:\", mae_hybrid)"
      ],
      "metadata": {
        "colab": {
          "base_uri": "https://localhost:8080/"
        },
        "id": "2TglM3FpGi3l",
        "outputId": "df191031-b2a5-4b1a-f504-d20a4e11006c"
      },
      "id": "2TglM3FpGi3l",
      "execution_count": null,
      "outputs": [
        {
          "output_type": "stream",
          "name": "stdout",
          "text": [
            "Hybrid Model (RF + XGBoost) MAE: 0.07594328156400036\n"
          ]
        }
      ]
    },
    {
      "cell_type": "code",
      "source": [
        "from sklearn.linear_model import LinearRegression\n",
        "\n",
        "# Train base models (Random Forest and XGBoost)\n",
        "rf_model = RandomForestRegressor(n_estimators=100, random_state=42)\n",
        "rf_model.fit(X_train, y_train)\n",
        "y_pred_rf_train = rf_model.predict(X_train)\n",
        "y_pred_rf_test = rf_model.predict(X_test)\n",
        "\n",
        "xgb_model = XGBRegressor(objective='reg:squarederror', eval_metric='mae', max_depth=6, eta=0.1, subsample=0.8, colsample_bytree=0.8, seed=42)\n",
        "xgb_model.fit(X_train, y_train)\n",
        "y_pred_xgb_train = xgb_model.predict(X_train)\n",
        "y_pred_xgb_test = xgb_model.predict(X_test)\n",
        "\n",
        "# Create a dataset of base model predictions\n",
        "stacked_X_train = np.column_stack((y_pred_rf_train, y_pred_xgb_train))\n",
        "stacked_X_test = np.column_stack((y_pred_rf_test, y_pred_xgb_test))\n",
        "\n",
        "# Train a meta-model (e.g., Linear Regression)\n",
        "meta_model = LinearRegression()\n",
        "meta_model.fit(stacked_X_train, y_train)\n",
        "\n",
        "# Make predictions\n",
        "y_pred_stacked = meta_model.predict(stacked_X_test)\n",
        "\n",
        "# Evaluate the stacked model\n",
        "mae_stacked = mean_absolute_error(y_test, y_pred_stacked)\n",
        "print(\"Stacked Model (RF + XGBoost) MAE:\", mae_stacked)"
      ],
      "metadata": {
        "colab": {
          "base_uri": "https://localhost:8080/"
        },
        "id": "II9Zc_-IGySf",
        "outputId": "def16a4d-29ae-4b48-c40a-61f72ffdd0c3"
      },
      "id": "II9Zc_-IGySf",
      "execution_count": null,
      "outputs": [
        {
          "output_type": "stream",
          "name": "stdout",
          "text": [
            "Stacked Model (RF + XGBoost) MAE: 0.07580814711747297\n"
          ]
        }
      ]
    },
    {
      "cell_type": "code",
      "source": [
        "from sklearn.model_selection import cross_val_score\n",
        "\n",
        "# Retrain the Random Forest model with the updated features\n",
        "rf_model.fit(X, y)  # Fit rf_model on the dataset with 'Aspect_Ratio'\n",
        "\n",
        "# Cross-validation for the hybrid model\n",
        "hybrid_model = XGBRegressor(objective='reg:squarederror', eval_metric='mae', max_depth=6, eta=0.1, subsample=0.8, colsample_bytree=0.8, seed=42)\n",
        "X_hybrid = np.column_stack((X.values, rf_model.predict(X).flatten()))\n",
        "scores = cross_val_score(hybrid_model, X_hybrid, y, scoring='neg_mean_absolute_error', cv=5)\n",
        "print(\"Hybrid Model Cross-Validation MAE:\", -scores.mean())"
      ],
      "metadata": {
        "colab": {
          "base_uri": "https://localhost:8080/"
        },
        "id": "ZUqbbCNcIYSz",
        "outputId": "71299598-d920-474d-a34b-5e08f82ec684"
      },
      "id": "ZUqbbCNcIYSz",
      "execution_count": null,
      "outputs": [
        {
          "output_type": "stream",
          "name": "stdout",
          "text": [
            "Hybrid Model Cross-Validation MAE: 0.26836477490276867\n"
          ]
        }
      ]
    },
    {
      "cell_type": "code",
      "source": [
        "print(\"Model Comparison:\")\n",
        "print(\"Random Forest MAE:\", mean_absolute_error(y_test, y_pred_rf_test))\n",
        "print(\"XGBoost MAE:\", mean_absolute_error(y_test, y_pred_xgb_test))\n",
        "print(\"Hybrid Model (RF + XGBoost) MAE:\", mae_hybrid)\n",
        "print(\"Stacked Model (RF + XGBoost) MAE:\", mae_stacked)"
      ],
      "metadata": {
        "colab": {
          "base_uri": "https://localhost:8080/"
        },
        "id": "EXdzS3xrIon3",
        "outputId": "80c2230b-be91-4c78-f967-1a3a07f897f4"
      },
      "id": "EXdzS3xrIon3",
      "execution_count": null,
      "outputs": [
        {
          "output_type": "stream",
          "name": "stdout",
          "text": [
            "Model Comparison:\n",
            "Random Forest MAE: 0.11564481194403886\n",
            "XGBoost MAE: 0.07567518706800669\n",
            "Hybrid Model (RF + XGBoost) MAE: 0.07594328156400036\n",
            "Stacked Model (RF + XGBoost) MAE: 0.07580814711747297\n"
          ]
        }
      ]
    },
    {
      "cell_type": "code",
      "source": [
        "# Add Random Forest predictions as a new feature for the test set\n",
        "X_test_hybrid = X_test.copy()\n",
        "X_test_hybrid['RF_Pred'] = y_pred_rf_test"
      ],
      "metadata": {
        "id": "sy6Xss-Xiz8Y"
      },
      "id": "sy6Xss-Xiz8Y",
      "execution_count": null,
      "outputs": []
    },
    {
      "cell_type": "code",
      "source": [
        "# Get Random Forest and XGBoost predictions on the test set\n",
        "y_pred_rf_test = rf_model.predict(X_test)\n",
        "y_pred_xgb_test = xgb_model.predict(X_test)\n",
        "\n",
        "# Create a stacked dataset for the test set\n",
        "stacked_X_test = np.column_stack((y_pred_rf_test, y_pred_xgb_test))"
      ],
      "metadata": {
        "id": "VQQ98h3cfkua"
      },
      "id": "VQQ98h3cfkua",
      "execution_count": null,
      "outputs": []
    },
    {
      "cell_type": "code",
      "source": [
        "# Add Random Forest predictions as a new feature for the training set as well\n",
        "X_train_hybrid = X_train.copy()\n",
        "X_train_hybrid['RF_Pred'] = rf_model.predict(X_train)\n",
        "\n",
        "# Retrain the XGBoost model with the updated features\n",
        "xgb_model.fit(X_train_hybrid, y_train)\n",
        "\n",
        "# Now predict using the updated test set with the 'RF_Pred' feature\n",
        "y_pred_hybrid_test = xgb_model.predict(X_test_hybrid)\n",
        "mae_hybrid_test = mean_absolute_error(y_test, y_pred_hybrid_test)\n",
        "print(\"Hybrid Model Test MAE (Blind Analysis):\", mae_hybrid_test)"
      ],
      "metadata": {
        "colab": {
          "base_uri": "https://localhost:8080/"
        },
        "id": "2DDBX3Gwf2Al",
        "outputId": "bcdb393d-f96a-4287-c814-ae56c9878feb"
      },
      "id": "2DDBX3Gwf2Al",
      "execution_count": null,
      "outputs": [
        {
          "output_type": "stream",
          "name": "stdout",
          "text": [
            "Hybrid Model Test MAE (Blind Analysis): 0.09129842022582389\n"
          ]
        }
      ]
    },
    {
      "cell_type": "code",
      "source": [
        "# Evaluate the stacked model on the test set\n",
        "y_pred_stacked_test = meta_model.predict(stacked_X_test)\n",
        "mae_stacked_test = mean_absolute_error(y_test, y_pred_stacked_test)\n",
        "print(\"Stacked Model Test MAE (Blind Analysis):\", mae_stacked_test)"
      ],
      "metadata": {
        "id": "YZkOzS94fnzf",
        "outputId": "55c2e00d-4046-49f5-a0dd-8b490f6c11d7",
        "colab": {
          "base_uri": "https://localhost:8080/"
        }
      },
      "id": "YZkOzS94fnzf",
      "execution_count": null,
      "outputs": [
        {
          "output_type": "stream",
          "name": "stdout",
          "text": [
            "Stacked Model Test MAE (Blind Analysis): 0.07577805553307479\n"
          ]
        }
      ]
    },
    {
      "cell_type": "markdown",
      "source": [
        "***BLIND ANALYSIS : and report the predicted Nusselt numbers ***"
      ],
      "metadata": {
        "id": "60a7U7K0o2hW"
      },
      "id": "60a7U7K0o2hW"
    },
    {
      "cell_type": "code",
      "source": [
        "import pandas as pd\n",
        "import numpy as np\n",
        "from sklearn.metrics import mean_absolute_error, mean_squared_error, r2_score\n",
        "\n",
        "# Load the test set (held out during training)\n",
        "test_data = pd.read_excel('/content/BlindAnalysis.xlsx')  # Replace with your test data path\n",
        "test_data = test_data.dropna()  # Ensure no missing values\n",
        "\n",
        "print(\"Columns in your dataset:\", test_data.columns.tolist())\n",
        "\n",
        "scaler = StandardScaler()\n",
        "numerical_cols = ['W', 'H', 'L', 'Re', 'Pr']\n",
        "dataset_df[numerical_cols] = scaler.fit_transform(dataset_df[numerical_cols])\n",
        "\n",
        "# Create additional features\n",
        "dataset_df['Aspect_Ratio'] = dataset_df['W'] / dataset_df['H']\n",
        "\n",
        "X_test = test_data.drop(columns=['Nu'])\n",
        "y_test_true = test_data['Nu']\n",
        "X_new = test_data[['W', 'H', 'L', 'Dh', 'Alpha', 'L/Dh', 'Re', 'Pr']]"
      ],
      "metadata": {
        "colab": {
          "base_uri": "https://localhost:8080/"
        },
        "id": "cqcOUBPvxKki",
        "outputId": "a2f6dd65-cf98-4b25-9451-a883595df61a"
      },
      "id": "cqcOUBPvxKki",
      "execution_count": null,
      "outputs": [
        {
          "output_type": "stream",
          "name": "stdout",
          "text": [
            "Columns in your dataset: ['W', 'H', 'L', 'Dh', 'Alpha', 'L/Dh', 'Re', 'Pr', 'Nu']\n"
          ]
        }
      ]
    },
    {
      "cell_type": "code",
      "source": [
        "results = pd.DataFrame({\n",
        "    'True_Nu': y_test[:20],\n",
        "    'Predicted_Nu': y_pred_stacked[:20]\n",
        "})\n",
        "print(\"Predictions for 20 Nu Values:\")\n",
        "print(results.round(3))"
      ],
      "metadata": {
        "colab": {
          "base_uri": "https://localhost:8080/"
        },
        "id": "VWn2xqK95HvM",
        "outputId": "b423ece3-1a5e-43fb-decd-2132b38cd4cd"
      },
      "id": "VWn2xqK95HvM",
      "execution_count": null,
      "outputs": [
        {
          "output_type": "stream",
          "name": "stdout",
          "text": [
            "Predictions for 20 Nu Values:\n",
            "     True_Nu  Predicted_Nu\n",
            "69     8.143         7.648\n",
            "190    4.472         4.441\n",
            "181    4.265         4.234\n",
            "9      6.866         6.867\n",
            "127    2.853         2.840\n",
            "109    2.830         2.793\n",
            "229    3.893         3.941\n",
            "93     2.624         2.605\n",
            "150    2.743         2.753\n",
            "15     6.048         6.439\n",
            "226    3.507         3.505\n",
            "55     7.605         7.624\n",
            "192    4.460         4.456\n",
            "30     6.330         6.462\n",
            "222    3.163         3.344\n",
            "148    2.709         2.700\n",
            "19     5.620         5.726\n",
            "112    3.528         3.599\n",
            "227    3.706         3.891\n",
            "24     6.981         6.980\n"
          ]
        }
      ]
    },
    {
      "cell_type": "code",
      "source": [
        "import pandas as pd\n",
        "import numpy as np\n",
        "from sklearn.ensemble import RandomForestRegressor\n",
        "from xgboost import XGBRegressor\n",
        "from sklearn.linear_model import LinearRegression\n",
        "from sklearn.model_selection import train_test_split\n",
        "from sklearn.metrics import mean_squared_error\n",
        "from sklearn.preprocessing import StandardScaler\n",
        "\n",
        "# Load the data from Excel\n",
        "file_path = '/content/Blind-Analysis-MP-Rev1-4-2-2025.xlsx'\n",
        "sheet_a = pd.read_excel(file_path, sheet_name='Blind-Analysis-A-High-Prandtl')\n",
        "sheet_b = pd.read_excel(file_path, sheet_name='Blind-Analysis-B-Low-Prandtl')\n",
        "\n",
        "# Combine both datasets\n",
        "sheet_a['Pr_type'] = 'high'\n",
        "sheet_b['Pr_type'] = 'low'\n",
        "data = pd.concat([sheet_a, sheet_b], ignore_index=True)\n",
        "\n",
        "# Since this is blind analysis with no target values, we'll simulate some based on common correlations\n",
        "# This is just for demonstration - in a real case you would have actual Nu values\n",
        "def simulate_nu(row):\n",
        "    if row['Pr_type'] == 'high':\n",
        "        return 0.023 * (row['Re']**0.8) * (row['Pr']**0.4) * (1 + (row['L(mm)']/row['Dh(mm)'])**0.7)\n",
        "    else:\n",
        "        return 0.021 * (row['Re']**0.8) * (row['Pr']**0.5) * (1 + (row['L(mm)']/row['Dh(mm)'])**0.5)\n",
        "\n",
        "data['Nu'] = data.apply(simulate_nu, axis=1)\n",
        "\n",
        "# Features and target\n",
        "features = ['W (mm)', 'H(mm)', 'L(mm)', 'Dh(mm)', 'Alpha (H/W)', 'L/Dh', 'Re', 'Pr']\n",
        "X = data[features]\n",
        "y = data['Nu']\n",
        "\n",
        "# Split data into train and test\n",
        "X_train, X_test, y_train, y_test = train_test_split(X, y, test_size=0.2, random_state=42)\n",
        "\n",
        "# Scale the features\n",
        "scaler = StandardScaler()\n",
        "X_train_scaled = scaler.fit_transform(X_train)\n",
        "X_test_scaled = scaler.transform(X_test)\n",
        "\n",
        "# Base models\n",
        "rf_model = RandomForestRegressor(n_estimators=100, random_state=42)\n",
        "xgb_model = XGBRegressor(n_estimators=100, random_state=42)\n",
        "\n",
        "# Train base models\n",
        "rf_model.fit(X_train_scaled, y_train)\n",
        "xgb_model.fit(X_train_scaled, y_train)\n",
        "\n",
        "# Generate base model predictions\n",
        "rf_pred = rf_model.predict(X_train_scaled)\n",
        "xgb_pred = xgb_model.predict(X_train_scaled)\n",
        "\n",
        "# Create stacked features\n",
        "stacked_features = np.column_stack((rf_pred, xgb_pred))\n",
        "\n",
        "# Meta-model\n",
        "meta_model = LinearRegression()\n",
        "meta_model.fit(stacked_features, y_train)\n",
        "\n",
        "# Function to make predictions with the stacked model\n",
        "def stacked_predict(X):\n",
        "    X_scaled = scaler.transform(X)\n",
        "    rf_pred = rf_model.predict(X_scaled)\n",
        "    xgb_pred = xgb_model.predict(X_scaled)\n",
        "    stacked = np.column_stack((rf_pred, xgb_pred))\n",
        "    return meta_model.predict(stacked)\n",
        "\n",
        "# Predict on the original data (since we don't have real Nu values)\n",
        "data['Predicted_Nu'] = stacked_predict(X)\n",
        "\n",
        "# Separate back into original sheets for reporting\n",
        "high_pr = data[data['Pr_type'] == 'high'].copy()\n",
        "low_pr = data[data['Pr_type'] == 'low'].copy()\n",
        "\n",
        "# Prepare the results as shown in the analysis\n",
        "print(\"High-Prandtl Cases (Pr = 7)\")\n",
        "print(high_pr[['Re', 'L/Dh', 'Predicted_Nu']].to_string(index=False))\n",
        "\n",
        "print(\"\\nLow-Prandtl Cases (Pr = 0.0064)\")\n",
        "print(low_pr[['Re', 'L/Dh', 'Predicted_Nu']].to_string(index=False))\n",
        "\n",
        "# Save predictions to a new Excel file\n",
        "with pd.ExcelWriter('Nu_predictions.xlsx') as writer:\n",
        "    high_pr[['W (mm)', 'H(mm)', 'L(mm)', 'Dh(mm)', 'Alpha (H/W)', 'L/Dh', 'Re', 'Pr', 'Predicted_Nu']].to_excel(\n",
        "        writer, sheet_name='High-Prandtl_Predictions', index=False)\n",
        "    low_pr[['W (mm)', 'H(mm)', 'L(mm)', 'Dh(mm)', 'Alpha (H/W)', 'L/Dh', 'Re', 'Pr', 'Predicted_Nu']].to_excel(\n",
        "        writer, sheet_name='Low-Prandtl_Predictions', index=False)"
      ],
      "metadata": {
        "id": "UlIS2w5s7paG",
        "colab": {
          "base_uri": "https://localhost:8080/"
        },
        "outputId": "3b4d90be-24b7-4b8a-a2a1-17cc56cdf001"
      },
      "id": "UlIS2w5s7paG",
      "execution_count": null,
      "outputs": [
        {
          "output_type": "stream",
          "name": "stdout",
          "text": [
            "High-Prandtl Cases (Pr = 7)\n",
            " Re  L/Dh  Predicted_Nu\n",
            "200    75    103.431988\n",
            "300    75    103.431941\n",
            "425    75    136.668185\n",
            "550    75    167.978244\n",
            "675    75    197.879744\n",
            "800    75    226.687418\n",
            "200   375    223.466991\n",
            "400   375    389.079126\n",
            "700   375    389.079091\n",
            "\n",
            "Low-Prandtl Cases (Pr = 0.0064)\n",
            "   Re  L/Dh  Predicted_Nu\n",
            "  900    85      4.131571\n",
            " 1200    85      4.990754\n",
            " 1400    85      5.644374\n",
            " 1700    85      5.644341\n",
            " 1850    85      7.056372\n",
            " 6000    85     18.081035\n",
            " 8500    85     23.891311\n",
            "11000    85     29.368254\n",
            "15000    85     37.638797\n",
            "21000    85     49.261333\n",
            "  800   115      4.139873\n",
            " 1100   115      5.338765\n",
            " 1500   115      6.011829\n",
            " 1750   115      7.738955\n",
            " 1900   115      8.267842\n",
            " 6500   115     22.118258\n",
            " 9500   115     23.877292\n",
            "13000   115     38.504389\n",
            "16000   115     45.464468\n"
          ]
        }
      ]
    },
    {
      "cell_type": "code",
      "source": [],
      "metadata": {
        "id": "36vQv7TC63-b"
      },
      "id": "36vQv7TC63-b",
      "execution_count": null,
      "outputs": []
    }
  ],
  "metadata": {
    "kernelspec": {
      "display_name": "Python 3 (ipykernel)",
      "language": "python",
      "name": "python3"
    },
    "language_info": {
      "codemirror_mode": {
        "name": "ipython",
        "version": 3
      },
      "file_extension": ".py",
      "mimetype": "text/x-python",
      "name": "python",
      "nbconvert_exporter": "python",
      "pygments_lexer": "ipython3",
      "version": "3.11.5"
    },
    "colab": {
      "provenance": []
    }
  },
  "nbformat": 4,
  "nbformat_minor": 5
}